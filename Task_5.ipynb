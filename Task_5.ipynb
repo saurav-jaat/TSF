{
 "cells": [
  {
   "cell_type": "markdown",
   "metadata": {
    "id": "eEcYI8TCNLgi"
   },
   "source": [
    "**AUTHOR: Saurav Chaudhary**"
   ]
  },
  {
   "cell_type": "markdown",
   "metadata": {
    "id": "11MYnRGFNRwt"
   },
   "source": [
    "Data Science & Business Analytics Intern - [GRIP - The Sparks Foundation]"
   ]
  },
  {
   "cell_type": "markdown",
   "metadata": {
    "id": "KLHct8teNUl_"
   },
   "source": [
    "**TASK 5: Exploratory Data Analysis - Sports**"
   ]
  },
  {
   "cell_type": "markdown",
   "metadata": {
    "id": "WPsw99W6NbYF"
   },
   "source": [
    "Perform ‘Exploratory Data Analysis’ on dataset ‘Indian Premier League’"
   ]
  },
  {
   "cell_type": "code",
   "execution_count": 29,
   "metadata": {
    "id": "k5urFHA2Nffg"
   },
   "outputs": [],
   "source": [
    "import seaborn as sns\n",
    "import matplotlib\n",
    "import matplotlib.pyplot as plt\n",
    "%matplotlib inline\n",
    "sns.color_palette(\"Paired\")\n",
    "matplotlib.rcParams['font.size'] = 14\n",
    "matplotlib.rcParams['figure.figsize'] = (12, 8)\n",
    "matplotlib.rcParams['figure.facecolor'] = '#00000000'"
   ]
  },
  {
   "cell_type": "code",
   "execution_count": 30,
   "metadata": {
    "colab": {
     "base_uri": "https://localhost:8080/",
     "height": 806
    },
    "id": "M0nwxg04Ntpr",
    "outputId": "1b34a8f2-d653-4b1a-d5c8-b48b202e6541"
   },
   "outputs": [
    {
     "data": {
      "text/html": [
       "<div>\n",
       "<style scoped>\n",
       "    .dataframe tbody tr th:only-of-type {\n",
       "        vertical-align: middle;\n",
       "    }\n",
       "\n",
       "    .dataframe tbody tr th {\n",
       "        vertical-align: top;\n",
       "    }\n",
       "\n",
       "    .dataframe thead th {\n",
       "        text-align: right;\n",
       "    }\n",
       "</style>\n",
       "<table border=\"1\" class=\"dataframe\">\n",
       "  <thead>\n",
       "    <tr style=\"text-align: right;\">\n",
       "      <th></th>\n",
       "      <th>id</th>\n",
       "      <th>season</th>\n",
       "      <th>city</th>\n",
       "      <th>date</th>\n",
       "      <th>team1</th>\n",
       "      <th>team2</th>\n",
       "      <th>toss_winner</th>\n",
       "      <th>toss_decision</th>\n",
       "      <th>result</th>\n",
       "      <th>dl_applied</th>\n",
       "      <th>winner</th>\n",
       "      <th>win_by_runs</th>\n",
       "      <th>win_by_wickets</th>\n",
       "      <th>player_of_match</th>\n",
       "      <th>venue</th>\n",
       "      <th>umpire1</th>\n",
       "      <th>umpire2</th>\n",
       "      <th>umpire3</th>\n",
       "    </tr>\n",
       "  </thead>\n",
       "  <tbody>\n",
       "    <tr>\n",
       "      <th>0</th>\n",
       "      <td>1</td>\n",
       "      <td>2017</td>\n",
       "      <td>Hyderabad</td>\n",
       "      <td>2017-04-05</td>\n",
       "      <td>Sunrisers Hyderabad</td>\n",
       "      <td>Royal Challengers Bangalore</td>\n",
       "      <td>Royal Challengers Bangalore</td>\n",
       "      <td>field</td>\n",
       "      <td>normal</td>\n",
       "      <td>0</td>\n",
       "      <td>Sunrisers Hyderabad</td>\n",
       "      <td>35</td>\n",
       "      <td>0</td>\n",
       "      <td>Yuvraj Singh</td>\n",
       "      <td>Rajiv Gandhi International Stadium, Uppal</td>\n",
       "      <td>AY Dandekar</td>\n",
       "      <td>NJ Llong</td>\n",
       "      <td>NaN</td>\n",
       "    </tr>\n",
       "    <tr>\n",
       "      <th>1</th>\n",
       "      <td>2</td>\n",
       "      <td>2017</td>\n",
       "      <td>Pune</td>\n",
       "      <td>2017-04-06</td>\n",
       "      <td>Mumbai Indians</td>\n",
       "      <td>Rising Pune Supergiant</td>\n",
       "      <td>Rising Pune Supergiant</td>\n",
       "      <td>field</td>\n",
       "      <td>normal</td>\n",
       "      <td>0</td>\n",
       "      <td>Rising Pune Supergiant</td>\n",
       "      <td>0</td>\n",
       "      <td>7</td>\n",
       "      <td>SPD Smith</td>\n",
       "      <td>Maharashtra Cricket Association Stadium</td>\n",
       "      <td>A Nand Kishore</td>\n",
       "      <td>S Ravi</td>\n",
       "      <td>NaN</td>\n",
       "    </tr>\n",
       "    <tr>\n",
       "      <th>2</th>\n",
       "      <td>3</td>\n",
       "      <td>2017</td>\n",
       "      <td>Rajkot</td>\n",
       "      <td>2017-04-07</td>\n",
       "      <td>Gujarat Lions</td>\n",
       "      <td>Kolkata Knight Riders</td>\n",
       "      <td>Kolkata Knight Riders</td>\n",
       "      <td>field</td>\n",
       "      <td>normal</td>\n",
       "      <td>0</td>\n",
       "      <td>Kolkata Knight Riders</td>\n",
       "      <td>0</td>\n",
       "      <td>10</td>\n",
       "      <td>CA Lynn</td>\n",
       "      <td>Saurashtra Cricket Association Stadium</td>\n",
       "      <td>Nitin Menon</td>\n",
       "      <td>CK Nandan</td>\n",
       "      <td>NaN</td>\n",
       "    </tr>\n",
       "    <tr>\n",
       "      <th>3</th>\n",
       "      <td>4</td>\n",
       "      <td>2017</td>\n",
       "      <td>Indore</td>\n",
       "      <td>2017-04-08</td>\n",
       "      <td>Rising Pune Supergiant</td>\n",
       "      <td>Kings XI Punjab</td>\n",
       "      <td>Kings XI Punjab</td>\n",
       "      <td>field</td>\n",
       "      <td>normal</td>\n",
       "      <td>0</td>\n",
       "      <td>Kings XI Punjab</td>\n",
       "      <td>0</td>\n",
       "      <td>6</td>\n",
       "      <td>GJ Maxwell</td>\n",
       "      <td>Holkar Cricket Stadium</td>\n",
       "      <td>AK Chaudhary</td>\n",
       "      <td>C Shamshuddin</td>\n",
       "      <td>NaN</td>\n",
       "    </tr>\n",
       "    <tr>\n",
       "      <th>4</th>\n",
       "      <td>5</td>\n",
       "      <td>2017</td>\n",
       "      <td>Bangalore</td>\n",
       "      <td>2017-04-08</td>\n",
       "      <td>Royal Challengers Bangalore</td>\n",
       "      <td>Delhi Daredevils</td>\n",
       "      <td>Royal Challengers Bangalore</td>\n",
       "      <td>bat</td>\n",
       "      <td>normal</td>\n",
       "      <td>0</td>\n",
       "      <td>Royal Challengers Bangalore</td>\n",
       "      <td>15</td>\n",
       "      <td>0</td>\n",
       "      <td>KM Jadhav</td>\n",
       "      <td>M Chinnaswamy Stadium</td>\n",
       "      <td>NaN</td>\n",
       "      <td>NaN</td>\n",
       "      <td>NaN</td>\n",
       "    </tr>\n",
       "    <tr>\n",
       "      <th>...</th>\n",
       "      <td>...</td>\n",
       "      <td>...</td>\n",
       "      <td>...</td>\n",
       "      <td>...</td>\n",
       "      <td>...</td>\n",
       "      <td>...</td>\n",
       "      <td>...</td>\n",
       "      <td>...</td>\n",
       "      <td>...</td>\n",
       "      <td>...</td>\n",
       "      <td>...</td>\n",
       "      <td>...</td>\n",
       "      <td>...</td>\n",
       "      <td>...</td>\n",
       "      <td>...</td>\n",
       "      <td>...</td>\n",
       "      <td>...</td>\n",
       "      <td>...</td>\n",
       "    </tr>\n",
       "    <tr>\n",
       "      <th>751</th>\n",
       "      <td>11347</td>\n",
       "      <td>2019</td>\n",
       "      <td>Mumbai</td>\n",
       "      <td>05/05/19</td>\n",
       "      <td>Kolkata Knight Riders</td>\n",
       "      <td>Mumbai Indians</td>\n",
       "      <td>Mumbai Indians</td>\n",
       "      <td>field</td>\n",
       "      <td>normal</td>\n",
       "      <td>0</td>\n",
       "      <td>Mumbai Indians</td>\n",
       "      <td>0</td>\n",
       "      <td>9</td>\n",
       "      <td>HH Pandya</td>\n",
       "      <td>Wankhede Stadium</td>\n",
       "      <td>Nanda Kishore</td>\n",
       "      <td>O Nandan</td>\n",
       "      <td>S Ravi</td>\n",
       "    </tr>\n",
       "    <tr>\n",
       "      <th>752</th>\n",
       "      <td>11412</td>\n",
       "      <td>2019</td>\n",
       "      <td>Chennai</td>\n",
       "      <td>07/05/19</td>\n",
       "      <td>Chennai Super Kings</td>\n",
       "      <td>Mumbai Indians</td>\n",
       "      <td>Chennai Super Kings</td>\n",
       "      <td>bat</td>\n",
       "      <td>normal</td>\n",
       "      <td>0</td>\n",
       "      <td>Mumbai Indians</td>\n",
       "      <td>0</td>\n",
       "      <td>6</td>\n",
       "      <td>AS Yadav</td>\n",
       "      <td>M. A. Chidambaram Stadium</td>\n",
       "      <td>Nigel Llong</td>\n",
       "      <td>Nitin Menon</td>\n",
       "      <td>Ian Gould</td>\n",
       "    </tr>\n",
       "    <tr>\n",
       "      <th>753</th>\n",
       "      <td>11413</td>\n",
       "      <td>2019</td>\n",
       "      <td>Visakhapatnam</td>\n",
       "      <td>08/05/19</td>\n",
       "      <td>Sunrisers Hyderabad</td>\n",
       "      <td>Delhi Capitals</td>\n",
       "      <td>Delhi Capitals</td>\n",
       "      <td>field</td>\n",
       "      <td>normal</td>\n",
       "      <td>0</td>\n",
       "      <td>Delhi Capitals</td>\n",
       "      <td>0</td>\n",
       "      <td>2</td>\n",
       "      <td>RR Pant</td>\n",
       "      <td>ACA-VDCA Stadium</td>\n",
       "      <td>NaN</td>\n",
       "      <td>NaN</td>\n",
       "      <td>NaN</td>\n",
       "    </tr>\n",
       "    <tr>\n",
       "      <th>754</th>\n",
       "      <td>11414</td>\n",
       "      <td>2019</td>\n",
       "      <td>Visakhapatnam</td>\n",
       "      <td>10/05/19</td>\n",
       "      <td>Delhi Capitals</td>\n",
       "      <td>Chennai Super Kings</td>\n",
       "      <td>Chennai Super Kings</td>\n",
       "      <td>field</td>\n",
       "      <td>normal</td>\n",
       "      <td>0</td>\n",
       "      <td>Chennai Super Kings</td>\n",
       "      <td>0</td>\n",
       "      <td>6</td>\n",
       "      <td>F du Plessis</td>\n",
       "      <td>ACA-VDCA Stadium</td>\n",
       "      <td>Sundaram Ravi</td>\n",
       "      <td>Bruce Oxenford</td>\n",
       "      <td>Chettithody Shamshuddin</td>\n",
       "    </tr>\n",
       "    <tr>\n",
       "      <th>755</th>\n",
       "      <td>11415</td>\n",
       "      <td>2019</td>\n",
       "      <td>Hyderabad</td>\n",
       "      <td>12/05/19</td>\n",
       "      <td>Mumbai Indians</td>\n",
       "      <td>Chennai Super Kings</td>\n",
       "      <td>Mumbai Indians</td>\n",
       "      <td>bat</td>\n",
       "      <td>normal</td>\n",
       "      <td>0</td>\n",
       "      <td>Mumbai Indians</td>\n",
       "      <td>1</td>\n",
       "      <td>0</td>\n",
       "      <td>JJ Bumrah</td>\n",
       "      <td>Rajiv Gandhi Intl. Cricket Stadium</td>\n",
       "      <td>Nitin Menon</td>\n",
       "      <td>Ian Gould</td>\n",
       "      <td>Nigel Llong</td>\n",
       "    </tr>\n",
       "  </tbody>\n",
       "</table>\n",
       "<p>756 rows × 18 columns</p>\n",
       "</div>"
      ],
      "text/plain": [
       "        id  season  ...         umpire2                  umpire3\n",
       "0        1    2017  ...        NJ Llong                      NaN\n",
       "1        2    2017  ...          S Ravi                      NaN\n",
       "2        3    2017  ...       CK Nandan                      NaN\n",
       "3        4    2017  ...   C Shamshuddin                      NaN\n",
       "4        5    2017  ...             NaN                      NaN\n",
       "..     ...     ...  ...             ...                      ...\n",
       "751  11347    2019  ...        O Nandan                   S Ravi\n",
       "752  11412    2019  ...     Nitin Menon                Ian Gould\n",
       "753  11413    2019  ...             NaN                      NaN\n",
       "754  11414    2019  ...  Bruce Oxenford  Chettithody Shamshuddin\n",
       "755  11415    2019  ...       Ian Gould              Nigel Llong\n",
       "\n",
       "[756 rows x 18 columns]"
      ]
     },
     "execution_count": 30,
     "metadata": {
      "tags": []
     },
     "output_type": "execute_result"
    }
   ],
   "source": [
    "#Importing the dataset\n",
    "data=pd.read_csv(\"matches.csv\")\n",
    "#Displaying first 10 values\n",
    "data"
   ]
  },
  {
   "cell_type": "markdown",
   "metadata": {
    "id": "W5zTstmYO8H3"
   },
   "source": [
    "So there are 756 rows and 18 columns. 756 rows imply that there were 756 IPL matches held between 2008 and 2019."
   ]
  },
  {
   "cell_type": "code",
   "execution_count": 31,
   "metadata": {
    "colab": {
     "base_uri": "https://localhost:8080/"
    },
    "id": "nyyP0A6bOvVO",
    "outputId": "994f8df8-3480-4967-d731-2f12b84ba35b"
   },
   "outputs": [
    {
     "name": "stdout",
     "output_type": "stream",
     "text": [
      "<class 'pandas.core.frame.DataFrame'>\n",
      "RangeIndex: 756 entries, 0 to 755\n",
      "Data columns (total 18 columns):\n",
      " #   Column           Non-Null Count  Dtype \n",
      "---  ------           --------------  ----- \n",
      " 0   id               756 non-null    int64 \n",
      " 1   season           756 non-null    int64 \n",
      " 2   city             749 non-null    object\n",
      " 3   date             756 non-null    object\n",
      " 4   team1            756 non-null    object\n",
      " 5   team2            756 non-null    object\n",
      " 6   toss_winner      756 non-null    object\n",
      " 7   toss_decision    756 non-null    object\n",
      " 8   result           756 non-null    object\n",
      " 9   dl_applied       756 non-null    int64 \n",
      " 10  winner           752 non-null    object\n",
      " 11  win_by_runs      756 non-null    int64 \n",
      " 12  win_by_wickets   756 non-null    int64 \n",
      " 13  player_of_match  752 non-null    object\n",
      " 14  venue            756 non-null    object\n",
      " 15  umpire1          754 non-null    object\n",
      " 16  umpire2          754 non-null    object\n",
      " 17  umpire3          119 non-null    object\n",
      "dtypes: int64(5), object(13)\n",
      "memory usage: 106.4+ KB\n"
     ]
    }
   ],
   "source": [
    "data.info()"
   ]
  },
  {
   "cell_type": "code",
   "execution_count": 32,
   "metadata": {
    "colab": {
     "base_uri": "https://localhost:8080/",
     "height": 291
    },
    "id": "VDXNvsogPS6D",
    "outputId": "fbe747bd-13e0-4eef-829d-b22c68db06f1"
   },
   "outputs": [
    {
     "data": {
      "text/html": [
       "<div>\n",
       "<style scoped>\n",
       "    .dataframe tbody tr th:only-of-type {\n",
       "        vertical-align: middle;\n",
       "    }\n",
       "\n",
       "    .dataframe tbody tr th {\n",
       "        vertical-align: top;\n",
       "    }\n",
       "\n",
       "    .dataframe thead th {\n",
       "        text-align: right;\n",
       "    }\n",
       "</style>\n",
       "<table border=\"1\" class=\"dataframe\">\n",
       "  <thead>\n",
       "    <tr style=\"text-align: right;\">\n",
       "      <th></th>\n",
       "      <th>id</th>\n",
       "      <th>season</th>\n",
       "      <th>dl_applied</th>\n",
       "      <th>win_by_runs</th>\n",
       "      <th>win_by_wickets</th>\n",
       "    </tr>\n",
       "  </thead>\n",
       "  <tbody>\n",
       "    <tr>\n",
       "      <th>count</th>\n",
       "      <td>756.000000</td>\n",
       "      <td>756.000000</td>\n",
       "      <td>756.000000</td>\n",
       "      <td>756.000000</td>\n",
       "      <td>756.000000</td>\n",
       "    </tr>\n",
       "    <tr>\n",
       "      <th>mean</th>\n",
       "      <td>1792.178571</td>\n",
       "      <td>2013.444444</td>\n",
       "      <td>0.025132</td>\n",
       "      <td>13.283069</td>\n",
       "      <td>3.350529</td>\n",
       "    </tr>\n",
       "    <tr>\n",
       "      <th>std</th>\n",
       "      <td>3464.478148</td>\n",
       "      <td>3.366895</td>\n",
       "      <td>0.156630</td>\n",
       "      <td>23.471144</td>\n",
       "      <td>3.387963</td>\n",
       "    </tr>\n",
       "    <tr>\n",
       "      <th>min</th>\n",
       "      <td>1.000000</td>\n",
       "      <td>2008.000000</td>\n",
       "      <td>0.000000</td>\n",
       "      <td>0.000000</td>\n",
       "      <td>0.000000</td>\n",
       "    </tr>\n",
       "    <tr>\n",
       "      <th>25%</th>\n",
       "      <td>189.750000</td>\n",
       "      <td>2011.000000</td>\n",
       "      <td>0.000000</td>\n",
       "      <td>0.000000</td>\n",
       "      <td>0.000000</td>\n",
       "    </tr>\n",
       "    <tr>\n",
       "      <th>50%</th>\n",
       "      <td>378.500000</td>\n",
       "      <td>2013.000000</td>\n",
       "      <td>0.000000</td>\n",
       "      <td>0.000000</td>\n",
       "      <td>4.000000</td>\n",
       "    </tr>\n",
       "    <tr>\n",
       "      <th>75%</th>\n",
       "      <td>567.250000</td>\n",
       "      <td>2016.000000</td>\n",
       "      <td>0.000000</td>\n",
       "      <td>19.000000</td>\n",
       "      <td>6.000000</td>\n",
       "    </tr>\n",
       "    <tr>\n",
       "      <th>max</th>\n",
       "      <td>11415.000000</td>\n",
       "      <td>2019.000000</td>\n",
       "      <td>1.000000</td>\n",
       "      <td>146.000000</td>\n",
       "      <td>10.000000</td>\n",
       "    </tr>\n",
       "  </tbody>\n",
       "</table>\n",
       "</div>"
      ],
      "text/plain": [
       "                 id       season  dl_applied  win_by_runs  win_by_wickets\n",
       "count    756.000000   756.000000  756.000000   756.000000      756.000000\n",
       "mean    1792.178571  2013.444444    0.025132    13.283069        3.350529\n",
       "std     3464.478148     3.366895    0.156630    23.471144        3.387963\n",
       "min        1.000000  2008.000000    0.000000     0.000000        0.000000\n",
       "25%      189.750000  2011.000000    0.000000     0.000000        0.000000\n",
       "50%      378.500000  2013.000000    0.000000     0.000000        4.000000\n",
       "75%      567.250000  2016.000000    0.000000    19.000000        6.000000\n",
       "max    11415.000000  2019.000000    1.000000   146.000000       10.000000"
      ]
     },
     "execution_count": 32,
     "metadata": {
      "tags": []
     },
     "output_type": "execute_result"
    }
   ],
   "source": [
    "data.describe()"
   ]
  },
  {
   "cell_type": "markdown",
   "metadata": {
    "id": "EoZ3d3zePRyO"
   },
   "source": [
    "OBSERVATION:\n",
    "1. The biggest margin of victory for the team batting first(win_by_runs) is 146 runs.\n",
    "2.75% of the victorious teams that bat first won by a margin of 19 runs.\n",
    "3.The biggest victory of the team batting second(win_by_wickets) is by 10 wickets.\n",
    "4.75% of the victorious teams that bat second won by a margin of 6 wickets."
   ]
  },
  {
   "cell_type": "code",
   "execution_count": 33,
   "metadata": {
    "colab": {
     "base_uri": "https://localhost:8080/"
    },
    "id": "Vq07C6-6QZlx",
    "outputId": "7c185ff7-c0b7-4efe-a274-2a47d8412d5b"
   },
   "outputs": [
    {
     "data": {
      "text/plain": [
       "Index(['id', 'season', 'city', 'date', 'team1', 'team2', 'toss_winner',\n",
       "       'toss_decision', 'result', 'dl_applied', 'winner', 'win_by_runs',\n",
       "       'win_by_wickets', 'player_of_match', 'venue', 'umpire1', 'umpire2',\n",
       "       'umpire3'],\n",
       "      dtype='object')"
      ]
     },
     "execution_count": 33,
     "metadata": {
      "tags": []
     },
     "output_type": "execute_result"
    }
   ],
   "source": [
    "data.columns"
   ]
  },
  {
   "cell_type": "markdown",
   "metadata": {
    "id": "sbCu0QsiVeb8"
   },
   "source": [
    "Viewing the unique values of each column to better understand the dataset"
   ]
  },
  {
   "cell_type": "code",
   "execution_count": 34,
   "metadata": {
    "colab": {
     "base_uri": "https://localhost:8080/"
    },
    "id": "r4qsapneVuSv",
    "outputId": "b4b3fdf5-a8b2-4cc1-99e9-2b07dd998616"
   },
   "outputs": [
    {
     "name": "stdout",
     "output_type": "stream",
     "text": [
      "[    1     2     3     4     5     6     7     8     9    10    11    12\n",
      "    13    14    15    16    17    18    19    20    21    22    23    24\n",
      "    25    26    27    28    29    30    31    32    33    34    35    36\n",
      "    37    38    39    40    41    42    43    44    45    46    47    48\n",
      "    49    50    51    52    53    54    55    56    57    58    59    60\n",
      "    61    62    63    64    65    66    67    68    69    70    71    72\n",
      "    73    74    75    76    77    78    79    80    81    82    83    84\n",
      "    85    86    87    88    89    90    91    92    93    94    95    96\n",
      "    97    98    99   100   101   102   103   104   105   106   107   108\n",
      "   109   110   111   112   113   114   115   116   117   118   119   120\n",
      "   121   122   123   124   125   126   127   128   129   130   131   132\n",
      "   133   134   135   136   137   138   139   140   141   142   143   144\n",
      "   145   146   147   148   149   150   151   152   153   154   155   156\n",
      "   157   158   159   160   161   162   163   164   165   166   167   168\n",
      "   169   170   171   172   173   174   175   176   177   178   179   180\n",
      "   181   182   183   184   185   186   187   188   189   190   191   192\n",
      "   193   194   195   196   197   198   199   200   201   202   203   204\n",
      "   205   206   207   208   209   210   211   212   213   214   215   216\n",
      "   217   218   219   220   221   222   223   224   225   226   227   228\n",
      "   229   230   231   232   233   234   235   236   237   238   239   240\n",
      "   241   242   243   244   245   246   247   248   249   250   251   252\n",
      "   253   254   255   256   257   258   259   260   261   262   263   264\n",
      "   265   266   267   268   269   270   271   272   273   274   275   276\n",
      "   277   278   279   280   281   282   283   284   285   286   287   288\n",
      "   289   290   291   292   293   294   295   296   297   298   299   300\n",
      "   301   302   303   304   305   306   307   308   309   310   311   312\n",
      "   313   314   315   316   317   318   319   320   321   322   323   324\n",
      "   325   326   327   328   329   330   331   332   333   334   335   336\n",
      "   337   338   339   340   341   342   343   344   345   346   347   348\n",
      "   349   350   351   352   353   354   355   356   357   358   359   360\n",
      "   361   362   363   364   365   366   367   368   369   370   371   372\n",
      "   373   374   375   376   377   378   379   380   381   382   383   384\n",
      "   385   386   387   388   389   390   391   392   393   394   395   396\n",
      "   397   398   399   400   401   402   403   404   405   406   407   408\n",
      "   409   410   411   412   413   414   415   416   417   418   419   420\n",
      "   421   422   423   424   425   426   427   428   429   430   431   432\n",
      "   433   434   435   436   437   438   439   440   441   442   443   444\n",
      "   445   446   447   448   449   450   451   452   453   454   455   456\n",
      "   457   458   459   460   461   462   463   464   465   466   467   468\n",
      "   469   470   471   472   473   474   475   476   477   478   479   480\n",
      "   481   482   483   484   485   486   487   488   489   490   491   492\n",
      "   493   494   495   496   497   498   499   500   501   502   503   504\n",
      "   505   506   507   508   509   510   511   512   513   514   515   516\n",
      "   517   518   519   520   521   522   523   524   525   526   527   528\n",
      "   529   530   531   532   533   534   535   536   537   538   539   540\n",
      "   541   542   543   544   545   546   547   548   549   550   551   552\n",
      "   553   554   555   556   557   558   559   560   561   562   563   564\n",
      "   565   566   567   568   569   570   571   572   573   574   575   576\n",
      "   577   578   579   580   581   582   583   584   585   586   587   588\n",
      "   589   590   591   592   593   594   595   596   597   598   599   600\n",
      "   601   602   603   604   605   606   607   608   609   610   611   612\n",
      "   613   614   615   616   617   618   619   620   621   622   623   624\n",
      "   625   626   627   628   629   630   631   632   633   634   635   636\n",
      "  7894  7895  7896  7897  7898  7899  7900  7901  7902  7903  7904  7905\n",
      "  7906  7907  7908  7909  7910  7911  7912  7913  7914  7915  7916  7917\n",
      "  7918  7919  7920  7921  7922  7923  7924  7925  7926  7927  7928  7929\n",
      "  7930  7931  7932  7933  7934  7935  7936  7937  7938  7939  7940  7941\n",
      "  7942  7943  7944  7945  7946  7947  7948  7949  7950  7951  7952  7953\n",
      " 11137 11138 11139 11140 11141 11142 11143 11144 11145 11146 11147 11148\n",
      " 11149 11150 11151 11152 11153 11309 11310 11311 11312 11313 11314 11315\n",
      " 11316 11317 11318 11319 11320 11321 11322 11323 11324 11325 11326 11327\n",
      " 11328 11329 11330 11331 11332 11333 11334 11335 11336 11337 11338 11339\n",
      " 11340 11341 11342 11343 11344 11345 11346 11347 11412 11413 11414 11415]\n",
      "[2017 2008 2009 2010 2011 2012 2013 2014 2015 2016 2018 2019]\n",
      "['Hyderabad' 'Pune' 'Rajkot' 'Indore' 'Bangalore' 'Mumbai' 'Kolkata'\n",
      " 'Delhi' 'Chandigarh' 'Kanpur' 'Jaipur' 'Chennai' 'Cape Town'\n",
      " 'Port Elizabeth' 'Durban' 'Centurion' 'East London' 'Johannesburg'\n",
      " 'Kimberley' 'Bloemfontein' 'Ahmedabad' 'Cuttack' 'Nagpur' 'Dharamsala'\n",
      " 'Kochi' 'Visakhapatnam' 'Raipur' 'Ranchi' 'Abu Dhabi' 'Sharjah' nan\n",
      " 'Mohali' 'Bengaluru']\n",
      "['2017-04-05' '2017-04-06' '2017-04-07' '2017-04-08' '2017-04-09'\n",
      " '2017-04-10' '2017-04-11' '2017-04-12' '2017-04-13' '2017-04-14'\n",
      " '2017-04-15' '2017-04-16' '2017-04-17' '2017-04-18' '2017-04-19'\n",
      " '2017-04-20' '2017-04-21' '2017-04-22' '2017-04-23' '2017-04-24'\n",
      " '2017-04-26' '2017-04-27' '2017-04-28' '2017-04-29' '2017-04-30'\n",
      " '2017-05-01' '2017-05-02' '2017-05-03' '2017-05-04' '2017-05-05'\n",
      " '2017-05-06' '2017-05-07' '2017-05-08' '2017-05-09' '2017-05-10'\n",
      " '2017-05-11' '2017-05-12' '2017-05-13' '2017-05-14' '2017-05-16'\n",
      " '2017-05-17' '2017-05-19' '2017-05-21' '2008-04-18' '2008-04-19'\n",
      " '2008-04-20' '2008-04-21' '2008-04-22' '2008-04-23' '2008-04-24'\n",
      " '2008-04-25' '2008-04-26' '2008-04-27' '2008-04-28' '2008-04-29'\n",
      " '2008-04-30' '2008-05-01' '2008-05-02' '2008-05-25' '2008-05-03'\n",
      " '2008-05-04' '2008-05-05' '2008-05-06' '2008-05-07' '2008-05-08'\n",
      " '2008-05-09' '2008-05-28' '2008-05-10' '2008-05-11' '2008-05-12'\n",
      " '2008-05-13' '2008-05-14' '2008-05-15' '2008-05-16' '2008-05-17'\n",
      " '2008-05-18' '2008-05-19' '2008-05-20' '2008-05-21' '2008-05-23'\n",
      " '2008-05-24' '2008-05-26' '2008-05-27' '2008-05-30' '2008-05-31'\n",
      " '2008-06-01' '2009-04-18' '2009-04-19' '2009-04-20' '2009-04-21'\n",
      " '2009-04-22' '2009-04-23' '2009-04-24' '2009-04-25' '2009-04-26'\n",
      " '2009-04-27' '2009-04-28' '2009-04-29' '2009-04-30' '2009-05-01'\n",
      " '2009-05-02' '2009-05-03' '2009-05-04' '2009-05-05' '2009-05-06'\n",
      " '2009-05-07' '2009-05-08' '2009-05-09' '2009-05-10' '2009-05-11'\n",
      " '2009-05-12' '2009-05-13' '2009-05-14' '2009-05-15' '2009-05-16'\n",
      " '2009-05-17' '2009-05-18' '2009-05-19' '2009-05-20' '2009-05-21'\n",
      " '2009-05-22' '2009-05-23' '2009-05-24' '2010-03-12' '2010-03-13'\n",
      " '2010-03-14' '2010-03-15' '2010-03-16' '2010-03-17' '2010-03-18'\n",
      " '2010-03-19' '2010-03-20' '2010-03-21' '2010-03-22' '2010-03-23'\n",
      " '2010-03-24' '2010-03-25' '2010-03-26' '2010-03-27' '2010-03-28'\n",
      " '2010-03-29' '2010-03-30' '2010-03-31' '2010-04-01' '2010-04-02'\n",
      " '2010-04-03' '2010-04-04' '2010-04-05' '2010-04-06' '2010-04-07'\n",
      " '2010-04-08' '2010-04-09' '2010-04-10' '2010-04-11' '2010-04-12'\n",
      " '2010-04-13' '2010-04-14' '2010-04-15' '2010-04-16' '2010-04-17'\n",
      " '2010-04-18' '2010-04-19' '2010-04-21' '2010-04-22' '2010-04-24'\n",
      " '2010-04-25' '2011-04-08' '2011-04-09' '2011-04-10' '2011-04-11'\n",
      " '2011-04-12' '2011-04-13' '2011-04-14' '2011-04-15' '2011-04-16'\n",
      " '2011-04-17' '2011-04-18' '2011-04-19' '2011-04-20' '2011-04-21'\n",
      " '2011-04-22' '2011-04-23' '2011-04-24' '2011-04-25' '2011-04-26'\n",
      " '2011-04-27' '2011-04-28' '2011-04-29' '2011-04-30' '2011-05-01'\n",
      " '2011-05-02' '2011-05-03' '2011-05-04' '2011-05-05' '2011-05-06'\n",
      " '2011-05-07' '2011-05-08' '2011-05-09' '2011-05-10' '2011-05-11'\n",
      " '2011-05-12' '2011-05-13' '2011-05-14' '2011-05-15' '2011-05-16'\n",
      " '2011-05-17' '2011-05-18' '2011-05-19' '2011-05-20' '2011-05-21'\n",
      " '2011-05-22' '2011-05-24' '2011-05-25' '2011-05-27' '2011-05-28'\n",
      " '2012-04-04' '2012-04-05' '2012-04-06' '2012-04-07' '2012-04-08'\n",
      " '2012-04-09' '2012-04-10' '2012-04-11' '2012-04-12' '2012-04-13'\n",
      " '2012-04-19' '2012-04-14' '2012-04-15' '2012-04-16' '2012-04-17'\n",
      " '2012-04-18' '2012-05-10' '2012-04-20' '2012-04-21' '2012-04-22'\n",
      " '2012-04-23' '2012-04-24' '2012-04-25' '2012-04-26' '2012-04-27'\n",
      " '2012-04-28' '2012-04-29' '2012-04-30' '2012-05-01' '2012-05-02'\n",
      " '2012-05-03' '2012-05-04' '2012-05-05' '2012-05-06' '2012-05-07'\n",
      " '2012-05-08' '2012-05-09' '2012-05-11' '2012-05-12' '2012-05-13'\n",
      " '2012-05-14' '2012-05-15' '2012-05-16' '2012-05-17' '2012-05-18'\n",
      " '2012-05-19' '2012-05-20' '2012-05-22' '2012-05-23' '2012-05-25'\n",
      " '2012-05-27' '2013-04-03' '2013-04-04' '2013-04-05' '2013-04-06'\n",
      " '2013-04-07' '2013-04-08' '2013-04-09' '2013-04-10' '2013-04-11'\n",
      " '2013-04-12' '2013-04-13' '2013-04-14' '2013-04-15' '2013-04-16'\n",
      " '2013-04-17' '2013-04-18' '2013-04-19' '2013-04-20' '2013-04-21'\n",
      " '2013-04-22' '2013-04-23' '2013-05-16' '2013-04-24' '2013-04-25'\n",
      " '2013-04-26' '2013-04-27' '2013-04-28' '2013-04-29' '2013-04-30'\n",
      " '2013-05-01' '2013-05-02' '2013-05-03' '2013-05-04' '2013-05-14'\n",
      " '2013-05-05' '2013-05-07' '2013-05-08' '2013-05-09' '2013-05-10'\n",
      " '2013-05-11' '2013-05-12' '2013-05-13' '2013-05-15' '2013-05-06'\n",
      " '2013-05-17' '2013-05-18' '2013-05-19' '2013-05-21' '2013-05-22'\n",
      " '2013-05-24' '2013-05-26' '2014-04-16' '2014-04-17' '2014-04-18'\n",
      " '2014-04-19' '2014-04-20' '2014-04-21' '2014-04-22' '2014-04-23'\n",
      " '2014-04-24' '2014-04-25' '2014-04-26' '2014-04-27' '2014-04-28'\n",
      " '2014-04-29' '2014-04-30' '2014-05-02' '2014-05-03' '2014-05-04'\n",
      " '2014-05-05' '2014-05-06' '2014-05-07' '2014-05-08' '2014-05-09'\n",
      " '2014-05-10' '2014-05-11' '2014-05-12' '2014-05-13' '2014-05-14'\n",
      " '2014-05-15' '2014-05-18' '2014-05-19' '2014-05-20' '2014-05-21'\n",
      " '2014-05-22' '2014-05-23' '2014-05-24' '2014-05-25' '2014-05-27'\n",
      " '2014-05-28' '2014-05-30' '2014-06-01' '2015-04-08' '2015-04-09'\n",
      " '2015-04-10' '2015-04-11' '2015-04-12' '2015-04-13' '2015-04-14'\n",
      " '2015-04-30' '2015-04-15' '2015-04-16' '2015-04-17' '2015-04-18'\n",
      " '2015-04-19' '2015-04-20' '2015-04-21' '2015-04-22' '2015-04-23'\n",
      " '2015-04-24' '2015-04-25' '2015-04-26' '2015-04-27' '2015-05-07'\n",
      " '2015-04-29' '2015-04-28' '2015-05-01' '2015-05-02' '2015-05-03'\n",
      " '2015-05-04' '2015-05-05' '2015-05-06' '2015-05-08' '2015-05-09'\n",
      " '2015-05-10' '2015-05-11' '2015-05-12' '2015-05-13' '2015-05-14'\n",
      " '2015-05-15' '2015-05-16' '2015-05-17' '2015-05-19' '2015-05-20'\n",
      " '2015-05-22' '2015-05-24' '2016-04-09' '2016-04-10' '2016-04-11'\n",
      " '2016-04-12' '2016-04-13' '2016-04-14' '2016-04-15' '2016-04-16'\n",
      " '2016-04-17' '2016-04-18' '2016-04-19' '2016-04-20' '2016-04-21'\n",
      " '2016-04-22' '2016-04-23' '2016-04-24' '2016-04-25' '2016-04-26'\n",
      " '2016-04-27' '2016-04-28' '2016-04-29' '2016-04-30' '2016-05-01'\n",
      " '2016-05-02' '2016-05-03' '2016-05-04' '2016-05-05' '2016-05-06'\n",
      " '2016-05-07' '2016-05-08' '2016-05-09' '2016-05-10' '2016-05-11'\n",
      " '2016-05-12' '2016-05-13' '2016-05-14' '2016-05-15' '2016-05-16'\n",
      " '2016-05-17' '2016-05-18' '2016-05-19' '2016-05-20' '2016-05-21'\n",
      " '2016-05-22' '2016-05-24' '2016-05-25' '2016-05-27' '2016-05-29'\n",
      " '07/04/18' '08/04/18' '09/04/18' '10/04/18' '11/04/18' '12/04/18'\n",
      " '13/04/18' '14/04/18' '15/04/18' '16/04/18' '17/04/18' '18/04/18'\n",
      " '19/04/18' '20/04/18' '21/04/18' '22/04/18' '23/04/18' '24/04/18'\n",
      " '25/04/18' '26/04/18' '27/04/18' '28/04/18' '29/04/18' '30/04/18'\n",
      " '01/05/18' '02/05/18' '03/05/18' '04/05/18' '05/05/18' '06/05/18'\n",
      " '07/05/18' '08/05/18' '09/05/18' '10/05/18' '11/05/18' '12/05/18'\n",
      " '13/05/18' '14/05/18' '15/05/18' '16/05/18' '17/05/18' '18/05/18'\n",
      " '19/05/18' '20/05/18' '22/05/18' '23/05/18' '25/05/18' '27/05/18'\n",
      " '23/03/19' '24/03/19' '25/03/19' '26/03/19' '27/03/19' '28/03/19'\n",
      " '29/03/19' '30/03/19' '31/03/19' '01/04/19' '02/04/19' '03/04/19'\n",
      " '04/04/19' '05/04/19' '06/04/19' '07/04/19' '08/04/19' '09/04/19'\n",
      " '10/04/19' '11/04/19' '12/04/19' '13/04/19' '14/04/19' '15/04/19'\n",
      " '16/04/19' '17/04/19' '18/04/19' '19/04/19' '20/04/19' '21/04/19'\n",
      " '22/04/19' '23/04/19' '24/04/19' '25/04/19' '26/04/19' '27/04/19'\n",
      " '28/04/19' '29/04/19' '30/04/19' '01/05/19' '02/05/19' '03/05/19'\n",
      " '04/05/19' '05/05/19' '07/05/19' '08/05/19' '10/05/19' '12/05/19']\n",
      "['Sunrisers Hyderabad' 'Mumbai Indians' 'Gujarat Lions'\n",
      " 'Rising Pune Supergiant' 'Royal Challengers Bangalore'\n",
      " 'Kolkata Knight Riders' 'Delhi Daredevils' 'Kings XI Punjab'\n",
      " 'Chennai Super Kings' 'Rajasthan Royals' 'Deccan Chargers'\n",
      " 'Kochi Tuskers Kerala' 'Pune Warriors' 'Rising Pune Supergiants'\n",
      " 'Delhi Capitals']\n",
      "['Royal Challengers Bangalore' 'Rising Pune Supergiant'\n",
      " 'Kolkata Knight Riders' 'Kings XI Punjab' 'Delhi Daredevils'\n",
      " 'Sunrisers Hyderabad' 'Mumbai Indians' 'Gujarat Lions' 'Rajasthan Royals'\n",
      " 'Chennai Super Kings' 'Deccan Chargers' 'Pune Warriors'\n",
      " 'Kochi Tuskers Kerala' 'Rising Pune Supergiants' 'Delhi Capitals']\n",
      "['Royal Challengers Bangalore' 'Rising Pune Supergiant'\n",
      " 'Kolkata Knight Riders' 'Kings XI Punjab' 'Sunrisers Hyderabad'\n",
      " 'Mumbai Indians' 'Gujarat Lions' 'Delhi Daredevils' 'Chennai Super Kings'\n",
      " 'Rajasthan Royals' 'Deccan Chargers' 'Kochi Tuskers Kerala'\n",
      " 'Pune Warriors' 'Rising Pune Supergiants' 'Delhi Capitals']\n",
      "['field' 'bat']\n",
      "['normal' 'tie' 'no result']\n",
      "[0 1]\n",
      "['Sunrisers Hyderabad' 'Rising Pune Supergiant' 'Kolkata Knight Riders'\n",
      " 'Kings XI Punjab' 'Royal Challengers Bangalore' 'Mumbai Indians'\n",
      " 'Delhi Daredevils' 'Gujarat Lions' 'Chennai Super Kings'\n",
      " 'Rajasthan Royals' 'Deccan Chargers' 'Pune Warriors'\n",
      " 'Kochi Tuskers Kerala' nan 'Rising Pune Supergiants' 'Delhi Capitals']\n",
      "[ 35   0  15  97  17  51  27   5  21  14  26  82   3  61  48  19  12 146\n",
      "   7   9  10  20   1 140  33   6  66  13  45  29  18  23  41  65  25 105\n",
      "  75  92  11  24  38   8  78  16  53   2   4  31  55  98  34  36  39  40\n",
      "  67  63  37  57  22  85  32  76 111  43  58  28  74  42  59  46  47  86\n",
      "  44  87 130  60  77  30  50  93  72  62 138  71 144  80  64 102 118]\n",
      "[ 0  7 10  6  9  4  8  5  2  3  1]\n",
      "['Yuvraj Singh' 'SPD Smith' 'CA Lynn' 'GJ Maxwell' 'KM Jadhav'\n",
      " 'Rashid Khan' 'N Rana' 'AR Patel' 'SV Samson' 'JJ Bumrah' 'SP Narine'\n",
      " 'KA Pollard' 'AJ Tye' 'RV Uthappa' 'CJ Anderson' 'BA Stokes'\n",
      " 'NM Coulter-Nile' 'B Kumar' 'CH Gayle' 'KS Williamson' 'JC Buttler'\n",
      " 'SK Raina' 'MJ McClenaghan' 'MS Dhoni' 'HM Amla' 'G Gambhir'\n",
      " 'LH Ferguson' 'KH Pandya' 'Sandeep Sharma' 'DA Warner' 'RG Sharma'\n",
      " 'Mohammed Shami' 'RA Tripathi' 'RR Pant' 'JD Unadkat' 'LMP Simmons'\n",
      " 'DR Smith' 'S Dhawan' 'MM Sharma' 'SS Iyer' 'WP Saha' 'KK Nair'\n",
      " 'Mohammed Siraj' 'AT Rayudu' 'HV Patel' 'Washington Sundar' 'KV Sharma'\n",
      " 'BB McCullum' 'MEK Hussey' 'MF Maharoof' 'MV Boucher' 'DJ Hussey'\n",
      " 'SR Watson' 'V Sehwag' 'ML Hayden' 'YK Pathan' 'KC Sangakkara' 'JDP Oram'\n",
      " 'AC Gilchrist' 'SM Katich' 'ST Jayasuriya' 'GD McGrath' 'SE Marsh'\n",
      " 'SA Asnodkar' 'R Vinay Kumar' 'IK Pathan' 'SM Pollock' 'Sohail Tanvir'\n",
      " 'S Sreesanth' 'A Nehra' 'SC Ganguly' 'CRD Fernando' 'L Balaji'\n",
      " 'Shoaib Akhtar' 'A Mishra' 'DPMD Jayawardene' 'GC Smith' 'DJ Bravo'\n",
      " 'M Ntini' 'SP Goswami' 'A Kumble' 'KD Karthik' 'JA Morkel' 'P Kumar'\n",
      " 'Umar Gul' 'SR Tendulkar' 'R Dravid' 'DL Vettori' 'RP Singh'\n",
      " 'M Muralitharan' 'AB de Villiers' 'RS Bopara' 'PP Ojha' 'TM Dilshan'\n",
      " 'HH Gibbs' 'DP Nannes' 'JP Duminy' 'SB Jakati' 'JH Kallis' 'A Singh'\n",
      " 'S Badrinath' 'LRPL Taylor' 'Harbhajan Singh' 'R Bhatia' 'SK Warne'\n",
      " 'B Lee' 'BJ Hodge' 'LR Shukla' 'MK Pandey' 'AD Mathews' 'MK Tiwary'\n",
      " 'WPUJC Vaas' 'A Symonds' 'AA Jhunjhunwala' 'J Theron' 'AC Voges'\n",
      " 'NV Ojha' 'SL Malinga' 'M Vijay' 'KP Pietersen' 'PD Collingwood'\n",
      " 'MJ Lumb' 'TL Suman' 'RJ Harris' 'PP Chawla' 'Harmeet Singh' 'R Ashwin'\n",
      " 'R McLaren' 'M Kartik' 'DE Bollinger' 'S Anirudha' 'SK Trivedi' 'SB Wagh'\n",
      " 'PC Valthaty' 'MD Mishra' 'DW Steyn' 'S Sohal' 'MM Patel' 'V Kohli'\n",
      " 'I Sharma' 'J Botha' 'Iqbal Abdulla' 'P Parameswaran' 'R Sharma'\n",
      " 'MR Marsh' 'BA Bhatt' 'S Aravind' nan 'JEC Franklin' 'RE Levi'\n",
      " 'AM Rahane' 'RA Jadeja' 'MN Samuels' 'M Morkel' 'F du Plessis'\n",
      " 'AD Mascarenhas' 'Shakib Al Hasan' 'JD Ryder' 'S Nadeem'\n",
      " 'KMDN Kulasekara' 'CL White' 'Mandeep Singh' 'P Negi' 'Azhar Mahmood'\n",
      " 'BW Hilfenhaus' 'A Chandila' 'UT Yadav' 'MS Bisla' 'M Vohra' 'GH Vihari'\n",
      " 'AJ Finch' 'JP Faulkner' 'MS Gony' 'DA Miller' 'DJG Sammy' 'MG Johnson'\n",
      " 'KK Cooper' 'PA Patel' 'AP Tare' 'LJ Wright' 'YS Chahal' 'PV Tambe'\n",
      " 'DJ Hooda' 'GJ Bailey' 'AD Russell' 'MA Agarwal' 'MA Starc' 'VR Aaron'\n",
      " 'TA Boult' 'EJG Morgan' 'HH Pandya' 'MC Henriques' 'Z Khan' 'Q de Kock'\n",
      " 'Mustafizur Rahman' 'SA Yadav' 'AB Dinda' 'CH Morris' 'CR Brathwaite'\n",
      " 'MP Stoinis' 'A Zampa' 'BCJ Cutting' 'KL Rahul' 'SW Billings' 'JJ Roy'\n",
      " 'B Stanlake' 'J Archer' 'AS Rajpoot' 'TG Southee' 'AS Yadav'\n",
      " 'M Ur Rahman' 'Ishan Kishan' 'Kuldeep Yadav' 'S Gopal' 'L Ngidi' 'P Shaw'\n",
      " 'J Bairstow' 'S Curran' 'A Joseph' 'K Rabada' 'H Gurney' 'DL Chahar'\n",
      " 'Imran Tahir' 'K Paul' 'K Ahmed' 'S Gill' 'S Hetmyer']\n",
      "['Rajiv Gandhi International Stadium, Uppal'\n",
      " 'Maharashtra Cricket Association Stadium'\n",
      " 'Saurashtra Cricket Association Stadium' 'Holkar Cricket Stadium'\n",
      " 'M Chinnaswamy Stadium' 'Wankhede Stadium' 'Eden Gardens'\n",
      " 'Feroz Shah Kotla' 'Punjab Cricket Association IS Bindra Stadium, Mohali'\n",
      " 'Green Park' 'Punjab Cricket Association Stadium, Mohali'\n",
      " 'Sawai Mansingh Stadium' 'MA Chidambaram Stadium, Chepauk'\n",
      " 'Dr DY Patil Sports Academy' 'Newlands' \"St George's Park\" 'Kingsmead'\n",
      " 'SuperSport Park' 'Buffalo Park' 'New Wanderers Stadium'\n",
      " 'De Beers Diamond Oval' 'OUTsurance Oval' 'Brabourne Stadium'\n",
      " 'Sardar Patel Stadium, Motera' 'Barabati Stadium'\n",
      " 'Vidarbha Cricket Association Stadium, Jamtha'\n",
      " 'Himachal Pradesh Cricket Association Stadium' 'Nehru Stadium'\n",
      " 'Dr. Y.S. Rajasekhara Reddy ACA-VDCA Cricket Stadium'\n",
      " 'Subrata Roy Sahara Stadium'\n",
      " 'Shaheed Veer Narayan Singh International Stadium'\n",
      " 'JSCA International Stadium Complex' 'Sheikh Zayed Stadium'\n",
      " 'Sharjah Cricket Stadium' 'Dubai International Cricket Stadium'\n",
      " 'M. A. Chidambaram Stadium' 'Feroz Shah Kotla Ground'\n",
      " 'M. Chinnaswamy Stadium' 'Rajiv Gandhi Intl. Cricket Stadium'\n",
      " 'IS Bindra Stadium' 'ACA-VDCA Stadium']\n",
      "['AY Dandekar' 'A Nand Kishore' 'Nitin Menon' 'AK Chaudhary' nan\n",
      " 'A Deshmukh' 'KN Ananthapadmanabhan' 'YC Barde' 'S Ravi' 'CB Gaffaney'\n",
      " 'M Erasmus' 'NJ Llong' 'CK Nandan' 'Asad Rauf' 'MR Benson' 'Aleem Dar'\n",
      " 'SJ Davis' 'BF Bowden' 'IL Howell' 'DJ Harper' 'RE Koertzen'\n",
      " 'BR Doctrove' 'AV Jayaprakash' 'BG Jerling' 'HDPK Dharmasena' 'S Asnani'\n",
      " 'GAV Baxter' 'SS Hazare' 'K Hariharan' 'SL Shastri' 'SK Tarapore'\n",
      " 'SJA Taufel' 'S Das' 'AM Saheba' 'PR Reiffel' 'JD Cloete' 'VA Kulkarni'\n",
      " 'BNJ Oxenford' 'C Shamshuddin' 'RK Illingworth' 'RM Deshpande'\n",
      " 'K Srinath' 'SD Fry' 'PG Pathak' 'K Bharatan' 'Chris Gaffaney'\n",
      " 'Rod Tucker' 'Nigel Llong' 'Anil Chaudhary' 'K Ananthapadmanabhan'\n",
      " 'O Nandan' 'A Nanda Kishore' 'Vineet Kulkarni' 'Bruce Oxenford'\n",
      " 'Marais Erasmus' 'Kumar Dharmasena' 'Anil Dandekar' 'Yeshwant Barde'\n",
      " 'Ian Gould' 'Ulhas Gandhe' 'Nanda Kishore' 'Sundaram Ravi']\n",
      "['NJ Llong' 'S Ravi' 'CK Nandan' 'C Shamshuddin' nan 'AK Chaudhary'\n",
      " 'Nitin Menon' 'A Deshmukh' 'VK Sharma' 'M Erasmus' 'CB Gaffaney'\n",
      " 'A Nand Kishore' 'RE Koertzen' 'SL Shastri' 'GA Pratapkumar' 'DJ Harper'\n",
      " 'K Hariharan' 'RB Tiffin' 'AM Saheba' 'MR Benson' 'IL Howell'\n",
      " 'AV Jayaprakash' 'I Shivram' 'BR Doctrove' 'BG Jerling' 'SJ Davis'\n",
      " 'SD Ranade' 'SJA Taufel' 'TH Wijewardene' 'SK Tarapore' 'HDPK Dharmasena'\n",
      " 'SS Hazare' 'PR Reiffel' 'AL Hill' 'RJ Tucker' 'VA Kulkarni' 'JD Cloete'\n",
      " 'BNJ Oxenford' 'S Asnani' 'S Das' 'K Srinath' 'Subroto Das'\n",
      " 'RK Illingworth' 'PG Pathak' 'K Srinivasan' 'SD Fry' 'A Nanda Kishore'\n",
      " 'K Ananthapadmanabhan' 'A.D Deshmukh' 'Vineet Kulkarni' 'Chris Gaffaney'\n",
      " 'Rod Tucker' 'Nigel Llong' 'Anil Chaudhary' 'O Nandan'\n",
      " 'Virender Kumar Sharma' 'Yeshwant Barde' 'Anil Dandekar'\n",
      " 'Kumar Dharmasena' 'KN Anantapadmanabhan' 'Ulhas Gandhe' 'Nanda Kishore'\n",
      " 'Bruce Oxenford' 'Nand Kishore' 'KN Ananthapadmanabhan' 'Ian Gould']\n",
      "[nan 'Anil Chaudhary' 'Nitin Menon' 'S Ravi' 'O Nandan' 'A Nanda Kishore'\n",
      " 'Vineet Kulkarni' 'C Shamshuddin' 'Rod Tucker' 'Chris Gaffaney'\n",
      " 'A.D Deshmukh' 'Nigel Llong' 'K Ananthapadmanabhan' 'Anil Dandekar'\n",
      " 'Virender Kumar Sharma' 'Yeshwant Barde' 'Bruce Oxenford'\n",
      " 'Marais Erasmus' 'Kumar Dharmasena' 'KN Anantapadmanabhan' 'Ulhas Gandhe'\n",
      " 'Nanda Kishore' 'Ian Gould' 'Sundaram Ravi' 'KN Ananthapadmanabhan'\n",
      " 'Chettithody Shamshuddin']\n"
     ]
    }
   ],
   "source": [
    "for column in data:\n",
    "  print(data[column].unique())"
   ]
  },
  {
   "cell_type": "markdown",
   "metadata": {
    "id": "eWSEPOkFWN1S"
   },
   "source": [
    "The dataset has 18 columns id, season, city, date, team1, team2, toss_winner, toss_decision, result, dl_applied, winner, win_by_runs by first team, wins_by_runs by second team, player_of_match, venue, umpire1, umpire2, umpire3."
   ]
  },
  {
   "cell_type": "markdown",
   "metadata": {
    "id": "xPlmPJcnXUUn"
   },
   "source": [
    "Count NaN values in the umpire column"
   ]
  },
  {
   "cell_type": "code",
   "execution_count": 35,
   "metadata": {
    "colab": {
     "base_uri": "https://localhost:8080/"
    },
    "id": "kUBvQ5ZWXJZ-",
    "outputId": "0a61f075-9113-4a62-d53a-8fe7b9c7c96d"
   },
   "outputs": [
    {
     "data": {
      "text/plain": [
       "636"
      ]
     },
     "execution_count": 35,
     "metadata": {
      "tags": []
     },
     "output_type": "execute_result"
    }
   ],
   "source": [
    "#the first index that doesn't contain a NaN value \n",
    "data.umpire3.first_valid_index()"
   ]
  },
  {
   "cell_type": "code",
   "execution_count": 36,
   "metadata": {
    "colab": {
     "base_uri": "https://localhost:8080/",
     "height": 635
    },
    "id": "0KRMhiKjXmju",
    "outputId": "66e6b716-7905-45f5-e79f-be0ce59f2466"
   },
   "outputs": [
    {
     "data": {
      "text/html": [
       "<div>\n",
       "<style scoped>\n",
       "    .dataframe tbody tr th:only-of-type {\n",
       "        vertical-align: middle;\n",
       "    }\n",
       "\n",
       "    .dataframe tbody tr th {\n",
       "        vertical-align: top;\n",
       "    }\n",
       "\n",
       "    .dataframe thead th {\n",
       "        text-align: right;\n",
       "    }\n",
       "</style>\n",
       "<table border=\"1\" class=\"dataframe\">\n",
       "  <thead>\n",
       "    <tr style=\"text-align: right;\">\n",
       "      <th></th>\n",
       "      <th>id</th>\n",
       "      <th>season</th>\n",
       "      <th>city</th>\n",
       "      <th>date</th>\n",
       "      <th>team1</th>\n",
       "      <th>team2</th>\n",
       "      <th>toss_winner</th>\n",
       "      <th>toss_decision</th>\n",
       "      <th>result</th>\n",
       "      <th>dl_applied</th>\n",
       "      <th>winner</th>\n",
       "      <th>win_by_runs</th>\n",
       "      <th>win_by_wickets</th>\n",
       "      <th>player_of_match</th>\n",
       "      <th>venue</th>\n",
       "      <th>umpire1</th>\n",
       "      <th>umpire2</th>\n",
       "      <th>umpire3</th>\n",
       "    </tr>\n",
       "  </thead>\n",
       "  <tbody>\n",
       "    <tr>\n",
       "      <th>633</th>\n",
       "      <td>634</td>\n",
       "      <td>2016</td>\n",
       "      <td>Delhi</td>\n",
       "      <td>2016-05-25</td>\n",
       "      <td>Sunrisers Hyderabad</td>\n",
       "      <td>Kolkata Knight Riders</td>\n",
       "      <td>Kolkata Knight Riders</td>\n",
       "      <td>field</td>\n",
       "      <td>normal</td>\n",
       "      <td>0</td>\n",
       "      <td>Sunrisers Hyderabad</td>\n",
       "      <td>22</td>\n",
       "      <td>0</td>\n",
       "      <td>MC Henriques</td>\n",
       "      <td>Feroz Shah Kotla</td>\n",
       "      <td>M Erasmus</td>\n",
       "      <td>C Shamshuddin</td>\n",
       "      <td>NaN</td>\n",
       "    </tr>\n",
       "    <tr>\n",
       "      <th>634</th>\n",
       "      <td>635</td>\n",
       "      <td>2016</td>\n",
       "      <td>Delhi</td>\n",
       "      <td>2016-05-27</td>\n",
       "      <td>Gujarat Lions</td>\n",
       "      <td>Sunrisers Hyderabad</td>\n",
       "      <td>Sunrisers Hyderabad</td>\n",
       "      <td>field</td>\n",
       "      <td>normal</td>\n",
       "      <td>0</td>\n",
       "      <td>Sunrisers Hyderabad</td>\n",
       "      <td>0</td>\n",
       "      <td>4</td>\n",
       "      <td>DA Warner</td>\n",
       "      <td>Feroz Shah Kotla</td>\n",
       "      <td>M Erasmus</td>\n",
       "      <td>CK Nandan</td>\n",
       "      <td>NaN</td>\n",
       "    </tr>\n",
       "    <tr>\n",
       "      <th>635</th>\n",
       "      <td>636</td>\n",
       "      <td>2016</td>\n",
       "      <td>Bangalore</td>\n",
       "      <td>2016-05-29</td>\n",
       "      <td>Sunrisers Hyderabad</td>\n",
       "      <td>Royal Challengers Bangalore</td>\n",
       "      <td>Sunrisers Hyderabad</td>\n",
       "      <td>bat</td>\n",
       "      <td>normal</td>\n",
       "      <td>0</td>\n",
       "      <td>Sunrisers Hyderabad</td>\n",
       "      <td>8</td>\n",
       "      <td>0</td>\n",
       "      <td>BCJ Cutting</td>\n",
       "      <td>M Chinnaswamy Stadium</td>\n",
       "      <td>HDPK Dharmasena</td>\n",
       "      <td>BNJ Oxenford</td>\n",
       "      <td>NaN</td>\n",
       "    </tr>\n",
       "    <tr>\n",
       "      <th>636</th>\n",
       "      <td>7894</td>\n",
       "      <td>2018</td>\n",
       "      <td>Mumbai</td>\n",
       "      <td>07/04/18</td>\n",
       "      <td>Mumbai Indians</td>\n",
       "      <td>Chennai Super Kings</td>\n",
       "      <td>Chennai Super Kings</td>\n",
       "      <td>field</td>\n",
       "      <td>normal</td>\n",
       "      <td>0</td>\n",
       "      <td>Chennai Super Kings</td>\n",
       "      <td>0</td>\n",
       "      <td>1</td>\n",
       "      <td>DJ Bravo</td>\n",
       "      <td>Wankhede Stadium</td>\n",
       "      <td>Chris Gaffaney</td>\n",
       "      <td>A Nanda Kishore</td>\n",
       "      <td>Anil Chaudhary</td>\n",
       "    </tr>\n",
       "    <tr>\n",
       "      <th>637</th>\n",
       "      <td>7895</td>\n",
       "      <td>2018</td>\n",
       "      <td>Mohali</td>\n",
       "      <td>08/04/18</td>\n",
       "      <td>Delhi Daredevils</td>\n",
       "      <td>Kings XI Punjab</td>\n",
       "      <td>Kings XI Punjab</td>\n",
       "      <td>field</td>\n",
       "      <td>normal</td>\n",
       "      <td>0</td>\n",
       "      <td>Kings XI Punjab</td>\n",
       "      <td>0</td>\n",
       "      <td>6</td>\n",
       "      <td>KL Rahul</td>\n",
       "      <td>Punjab Cricket Association IS Bindra Stadium, ...</td>\n",
       "      <td>Rod Tucker</td>\n",
       "      <td>K Ananthapadmanabhan</td>\n",
       "      <td>Nitin Menon</td>\n",
       "    </tr>\n",
       "    <tr>\n",
       "      <th>638</th>\n",
       "      <td>7896</td>\n",
       "      <td>2018</td>\n",
       "      <td>Kolkata</td>\n",
       "      <td>08/04/18</td>\n",
       "      <td>Royal Challengers Bangalore</td>\n",
       "      <td>Kolkata Knight Riders</td>\n",
       "      <td>Kolkata Knight Riders</td>\n",
       "      <td>field</td>\n",
       "      <td>normal</td>\n",
       "      <td>0</td>\n",
       "      <td>Kolkata Knight Riders</td>\n",
       "      <td>0</td>\n",
       "      <td>4</td>\n",
       "      <td>SP Narine</td>\n",
       "      <td>Eden Gardens</td>\n",
       "      <td>C Shamshuddin</td>\n",
       "      <td>A.D Deshmukh</td>\n",
       "      <td>S Ravi</td>\n",
       "    </tr>\n",
       "    <tr>\n",
       "      <th>639</th>\n",
       "      <td>7897</td>\n",
       "      <td>2018</td>\n",
       "      <td>Hyderabad</td>\n",
       "      <td>09/04/18</td>\n",
       "      <td>Rajasthan Royals</td>\n",
       "      <td>Sunrisers Hyderabad</td>\n",
       "      <td>Sunrisers Hyderabad</td>\n",
       "      <td>field</td>\n",
       "      <td>normal</td>\n",
       "      <td>0</td>\n",
       "      <td>Sunrisers Hyderabad</td>\n",
       "      <td>0</td>\n",
       "      <td>9</td>\n",
       "      <td>S Dhawan</td>\n",
       "      <td>Rajiv Gandhi International Stadium, Uppal</td>\n",
       "      <td>Nigel Llong</td>\n",
       "      <td>Vineet Kulkarni</td>\n",
       "      <td>O Nandan</td>\n",
       "    </tr>\n",
       "    <tr>\n",
       "      <th>640</th>\n",
       "      <td>7898</td>\n",
       "      <td>2018</td>\n",
       "      <td>Chennai</td>\n",
       "      <td>10/04/18</td>\n",
       "      <td>Kolkata Knight Riders</td>\n",
       "      <td>Chennai Super Kings</td>\n",
       "      <td>Chennai Super Kings</td>\n",
       "      <td>field</td>\n",
       "      <td>normal</td>\n",
       "      <td>0</td>\n",
       "      <td>Chennai Super Kings</td>\n",
       "      <td>0</td>\n",
       "      <td>5</td>\n",
       "      <td>SW Billings</td>\n",
       "      <td>MA Chidambaram Stadium, Chepauk</td>\n",
       "      <td>Anil Chaudhary</td>\n",
       "      <td>Chris Gaffaney</td>\n",
       "      <td>A Nanda Kishore</td>\n",
       "    </tr>\n",
       "  </tbody>\n",
       "</table>\n",
       "</div>"
      ],
      "text/plain": [
       "       id  season  ...               umpire2          umpire3\n",
       "633   634    2016  ...         C Shamshuddin              NaN\n",
       "634   635    2016  ...             CK Nandan              NaN\n",
       "635   636    2016  ...          BNJ Oxenford              NaN\n",
       "636  7894    2018  ...       A Nanda Kishore   Anil Chaudhary\n",
       "637  7895    2018  ...  K Ananthapadmanabhan      Nitin Menon\n",
       "638  7896    2018  ...          A.D Deshmukh           S Ravi\n",
       "639  7897    2018  ...       Vineet Kulkarni         O Nandan\n",
       "640  7898    2018  ...        Chris Gaffaney  A Nanda Kishore\n",
       "\n",
       "[8 rows x 18 columns]"
      ]
     },
     "execution_count": 36,
     "metadata": {
      "tags": []
     },
     "output_type": "execute_result"
    }
   ],
   "source": [
    "#Confirming the first valid index\n",
    "data.loc[633:640]"
   ]
  },
  {
   "cell_type": "markdown",
   "metadata": {
    "id": "o2KIDbC-YLWk"
   },
   "source": [
    "Count NaN values for each column"
   ]
  },
  {
   "cell_type": "code",
   "execution_count": 37,
   "metadata": {
    "colab": {
     "base_uri": "https://localhost:8080/"
    },
    "id": "iE2QO4TkYQRn",
    "outputId": "15020f61-6b43-454d-85d9-1ae0179eb608"
   },
   "outputs": [
    {
     "data": {
      "text/plain": [
       "id                   0\n",
       "season               0\n",
       "city                 7\n",
       "date                 0\n",
       "team1                0\n",
       "team2                0\n",
       "toss_winner          0\n",
       "toss_decision        0\n",
       "result               0\n",
       "dl_applied           0\n",
       "winner               4\n",
       "win_by_runs          0\n",
       "win_by_wickets       0\n",
       "player_of_match      4\n",
       "venue                0\n",
       "umpire1              2\n",
       "umpire2              2\n",
       "umpire3            637\n",
       "dtype: int64"
      ]
     },
     "execution_count": 37,
     "metadata": {
      "tags": []
     },
     "output_type": "execute_result"
    }
   ],
   "source": [
    "data.isnull().sum()"
   ]
  },
  {
   "cell_type": "markdown",
   "metadata": {
    "id": "ILSFYqJ4YYpU"
   },
   "source": [
    "Dropping the umpire3 column as it has insignificant NaN values"
   ]
  },
  {
   "cell_type": "code",
   "execution_count": 38,
   "metadata": {
    "id": "OdCeI68vYiYq"
   },
   "outputs": [],
   "source": [
    "data=data.drop(columns=['umpire3'],axis=1)"
   ]
  },
  {
   "cell_type": "markdown",
   "metadata": {
    "id": "1MKeq_DIY3vK"
   },
   "source": [
    "**Exploratory Analysis and Visualization**"
   ]
  },
  {
   "cell_type": "markdown",
   "metadata": {
    "id": "Kb3ki3xCZFCn"
   },
   "source": [
    "The team with the most number of wins per season."
   ]
  },
  {
   "cell_type": "code",
   "execution_count": 39,
   "metadata": {
    "colab": {
     "base_uri": "https://localhost:8080/"
    },
    "id": "iWSCLLJ0Y-H5",
    "outputId": "d5ea7341-825e-4969-92bb-927b75ec4ea4"
   },
   "outputs": [
    {
     "data": {
      "text/plain": [
       "season  winner                     \n",
       "2008    Rajasthan Royals               13\n",
       "        Kings XI Punjab                10\n",
       "        Chennai Super Kings             9\n",
       "        Delhi Daredevils                7\n",
       "        Mumbai Indians                  7\n",
       "                                       ..\n",
       "2019    Kings XI Punjab                 6\n",
       "        Kolkata Knight Riders           6\n",
       "        Sunrisers Hyderabad             6\n",
       "        Rajasthan Royals                5\n",
       "        Royal Challengers Bangalore     5\n",
       "Name: winner, Length: 100, dtype: int64"
      ]
     },
     "execution_count": 39,
     "metadata": {
      "tags": []
     },
     "output_type": "execute_result"
    }
   ],
   "source": [
    "teams_win_season=data.groupby('season')['winner'].value_counts()\n",
    "teams_win_season"
   ]
  },
  {
   "cell_type": "code",
   "execution_count": 40,
   "metadata": {
    "colab": {
     "base_uri": "https://localhost:8080/"
    },
    "id": "vOJfh7qHZp_x",
    "outputId": "19f91230-5819-46e2-ec32-fe0f9a4da540"
   },
   "outputs": [
    {
     "name": "stdout",
     "output_type": "stream",
     "text": [
      "((2008, 'Rajasthan Royals'), 13)\n",
      "((2009, 'Delhi Daredevils'), 10)\n",
      "((2010, 'Mumbai Indians'), 11)\n",
      "((2011, 'Chennai Super Kings'), 11)\n",
      "((2012, 'Kolkata Knight Riders'), 12)\n",
      "((2013, 'Mumbai Indians'), 13)\n",
      "((2014, 'Kings XI Punjab'), 12)\n",
      "((2015, 'Chennai Super Kings'), 10)\n",
      "((2016, 'Sunrisers Hyderabad'), 11)\n",
      "((2017, 'Mumbai Indians'), 12)\n",
      "((2018, 'Chennai Super Kings'), 11)\n",
      "((2019, 'Mumbai Indians'), 11)\n"
     ]
    }
   ],
   "source": [
    "year=2008\n",
    "win=pd.DataFrame(columns=['year','team','wins'])\n",
    "for col in teams_win_season.iteritems():\n",
    "  if col[0][0]==year:\n",
    "    print(col)\n",
    "    win1=pd.DataFrame({'year':[col[0][0]],'team':[col[0][1]],'wins':[col[1]]})\n",
    "    win=win.append(win1)\n",
    "    year=year+1"
   ]
  },
  {
   "cell_type": "code",
   "execution_count": 41,
   "metadata": {
    "colab": {
     "base_uri": "https://localhost:8080/",
     "height": 412
    },
    "id": "j2pYHTlxZqKH",
    "outputId": "ff5eb48f-8945-4732-8763-f0c1e4d712c4"
   },
   "outputs": [
    {
     "data": {
      "text/html": [
       "<div>\n",
       "<style scoped>\n",
       "    .dataframe tbody tr th:only-of-type {\n",
       "        vertical-align: middle;\n",
       "    }\n",
       "\n",
       "    .dataframe tbody tr th {\n",
       "        vertical-align: top;\n",
       "    }\n",
       "\n",
       "    .dataframe thead th {\n",
       "        text-align: right;\n",
       "    }\n",
       "</style>\n",
       "<table border=\"1\" class=\"dataframe\">\n",
       "  <thead>\n",
       "    <tr style=\"text-align: right;\">\n",
       "      <th></th>\n",
       "      <th>year</th>\n",
       "      <th>team</th>\n",
       "      <th>wins</th>\n",
       "    </tr>\n",
       "  </thead>\n",
       "  <tbody>\n",
       "    <tr>\n",
       "      <th>0</th>\n",
       "      <td>2008</td>\n",
       "      <td>Rajasthan Royals</td>\n",
       "      <td>13</td>\n",
       "    </tr>\n",
       "    <tr>\n",
       "      <th>0</th>\n",
       "      <td>2009</td>\n",
       "      <td>Delhi Daredevils</td>\n",
       "      <td>10</td>\n",
       "    </tr>\n",
       "    <tr>\n",
       "      <th>0</th>\n",
       "      <td>2010</td>\n",
       "      <td>Mumbai Indians</td>\n",
       "      <td>11</td>\n",
       "    </tr>\n",
       "    <tr>\n",
       "      <th>0</th>\n",
       "      <td>2011</td>\n",
       "      <td>Chennai Super Kings</td>\n",
       "      <td>11</td>\n",
       "    </tr>\n",
       "    <tr>\n",
       "      <th>0</th>\n",
       "      <td>2012</td>\n",
       "      <td>Kolkata Knight Riders</td>\n",
       "      <td>12</td>\n",
       "    </tr>\n",
       "    <tr>\n",
       "      <th>0</th>\n",
       "      <td>2013</td>\n",
       "      <td>Mumbai Indians</td>\n",
       "      <td>13</td>\n",
       "    </tr>\n",
       "    <tr>\n",
       "      <th>0</th>\n",
       "      <td>2014</td>\n",
       "      <td>Kings XI Punjab</td>\n",
       "      <td>12</td>\n",
       "    </tr>\n",
       "    <tr>\n",
       "      <th>0</th>\n",
       "      <td>2015</td>\n",
       "      <td>Chennai Super Kings</td>\n",
       "      <td>10</td>\n",
       "    </tr>\n",
       "    <tr>\n",
       "      <th>0</th>\n",
       "      <td>2016</td>\n",
       "      <td>Sunrisers Hyderabad</td>\n",
       "      <td>11</td>\n",
       "    </tr>\n",
       "    <tr>\n",
       "      <th>0</th>\n",
       "      <td>2017</td>\n",
       "      <td>Mumbai Indians</td>\n",
       "      <td>12</td>\n",
       "    </tr>\n",
       "    <tr>\n",
       "      <th>0</th>\n",
       "      <td>2018</td>\n",
       "      <td>Chennai Super Kings</td>\n",
       "      <td>11</td>\n",
       "    </tr>\n",
       "    <tr>\n",
       "      <th>0</th>\n",
       "      <td>2019</td>\n",
       "      <td>Mumbai Indians</td>\n",
       "      <td>11</td>\n",
       "    </tr>\n",
       "  </tbody>\n",
       "</table>\n",
       "</div>"
      ],
      "text/plain": [
       "   year                   team wins\n",
       "0  2008       Rajasthan Royals   13\n",
       "0  2009       Delhi Daredevils   10\n",
       "0  2010         Mumbai Indians   11\n",
       "0  2011    Chennai Super Kings   11\n",
       "0  2012  Kolkata Knight Riders   12\n",
       "0  2013         Mumbai Indians   13\n",
       "0  2014        Kings XI Punjab   12\n",
       "0  2015    Chennai Super Kings   10\n",
       "0  2016    Sunrisers Hyderabad   11\n",
       "0  2017         Mumbai Indians   12\n",
       "0  2018    Chennai Super Kings   11\n",
       "0  2019         Mumbai Indians   11"
      ]
     },
     "execution_count": 41,
     "metadata": {
      "tags": []
     },
     "output_type": "execute_result"
    }
   ],
   "source": [
    "win"
   ]
  },
  {
   "cell_type": "markdown",
   "metadata": {
    "id": "HSqvxDU0ax39"
   },
   "source": [
    "A bar graph to show the number of wins"
   ]
  },
  {
   "cell_type": "code",
   "execution_count": 42,
   "metadata": {
    "colab": {
     "base_uri": "https://localhost:8080/",
     "height": 581
    },
    "id": "XajKSlC6a8-4",
    "outputId": "1142feb4-70d1-49ab-cf50-b6f85913b7a8"
   },
   "outputs": [
    {
     "name": "stderr",
     "output_type": "stream",
     "text": [
      "/usr/local/lib/python3.6/dist-packages/seaborn/_decorators.py:43: FutureWarning: Pass the following variables as keyword args: x, y. From version 0.12, the only valid positional argument will be `data`, and passing other arguments without an explicit keyword will result in an error or misinterpretation.\n",
      "  FutureWarning\n"
     ]
    },
    {
     "data": {
      "image/png": "[encoded data removed]",
      "text/plain": [
       "<Figure size 864x576 with 1 Axes>"
      ]
     },
     "metadata": {
      "needs_background": "light",
      "tags": []
     },
     "output_type": "display_data"
    }
   ],
   "source": [
    "plt.title('maximum number of wins')\n",
    "sns.barplot('wins', 'team', hue='year', data=win, palette='Paired');"
   ]
  },
  {
   "cell_type": "markdown",
   "metadata": {
    "id": "l5lr9oyibzaN"
   },
   "source": [
    "Observation: From the graph we can see that Mumbai Indians have won maximum number of seasons(2010,2013,2017,2019)"
   ]
  },
  {
   "cell_type": "markdown",
   "metadata": {
    "id": "qYqROO9ocGOk"
   },
   "source": [
    "The venue that hosted the maximum number of matches"
   ]
  },
  {
   "cell_type": "code",
   "execution_count": 43,
   "metadata": {
    "id": "631tWxMGcDMg"
   },
   "outputs": [],
   "source": [
    "venue_season=data['venue'].value_counts()"
   ]
  },
  {
   "cell_type": "code",
   "execution_count": 44,
   "metadata": {
    "id": "Kcmi5AMYcghB"
   },
   "outputs": [],
   "source": [
    "venue_df=pd.DataFrame(columns=['venue','matches'])\n",
    "for col in venue_season.iteritems():\n",
    "  ven=pd.DataFrame({'venue':[col[0]],'matches':[col[1]]})\n",
    "  venue_df=venue_df.append(ven,ignore_index=True)"
   ]
  },
  {
   "cell_type": "code",
   "execution_count": 45,
   "metadata": {
    "colab": {
     "base_uri": "https://localhost:8080/",
     "height": 543
    },
    "id": "yC2nFpqYeFVe",
    "outputId": "0f45fe9a-d5f7-415e-fbaa-0ebcbf6060c0"
   },
   "outputs": [
    {
     "data": {
      "text/plain": [
       "<matplotlib.axes._subplots.AxesSubplot at 0x7f9c9a612780>"
      ]
     },
     "execution_count": 45,
     "metadata": {
      "tags": []
     },
     "output_type": "execute_result"
    },
    {
     "data": {
      "image/png": "[encoded data removed]",
      "text/plain": [
       "<Figure size 864x576 with 1 Axes>"
      ]
     },
     "metadata": {
      "needs_background": "light",
      "tags": []
     },
     "output_type": "display_data"
    }
   ],
   "source": [
    "plt.title(\"IPL Venues\")\n",
    "sns.barplot(x='matches',y='venue',data=venue_df)"
   ]
  },
  {
   "cell_type": "markdown",
   "metadata": {
    "id": "qgW1ni28eyZn"
   },
   "source": [
    "OBSERVATION: The maximum number of matches were hosted in Eden Gardens followed by M Chinnaswamy Stadium and Wankhede Stadium"
   ]
  },
  {
   "cell_type": "markdown",
   "metadata": {
    "id": "ouQB7mw5fKpU"
   },
   "source": [
    "The most successful IPL team"
   ]
  },
  {
   "cell_type": "code",
   "execution_count": 47,
   "metadata": {
    "colab": {
     "base_uri": "https://localhost:8080/",
     "height": 504
    },
    "id": "nGgAYyH2fP65",
    "outputId": "505cefe4-40bb-4407-c2ea-6fbdd41ee7eb"
   },
   "outputs": [
    {
     "data": {
      "text/html": [
       "<div>\n",
       "<style scoped>\n",
       "    .dataframe tbody tr th:only-of-type {\n",
       "        vertical-align: middle;\n",
       "    }\n",
       "\n",
       "    .dataframe tbody tr th {\n",
       "        vertical-align: top;\n",
       "    }\n",
       "\n",
       "    .dataframe thead th {\n",
       "        text-align: right;\n",
       "    }\n",
       "</style>\n",
       "<table border=\"1\" class=\"dataframe\">\n",
       "  <thead>\n",
       "    <tr style=\"text-align: right;\">\n",
       "      <th></th>\n",
       "      <th>team</th>\n",
       "      <th>wins</th>\n",
       "    </tr>\n",
       "  </thead>\n",
       "  <tbody>\n",
       "    <tr>\n",
       "      <th>0</th>\n",
       "      <td>Mumbai Indians</td>\n",
       "      <td>109</td>\n",
       "    </tr>\n",
       "    <tr>\n",
       "      <th>1</th>\n",
       "      <td>Chennai Super Kings</td>\n",
       "      <td>100</td>\n",
       "    </tr>\n",
       "    <tr>\n",
       "      <th>2</th>\n",
       "      <td>Kolkata Knight Riders</td>\n",
       "      <td>92</td>\n",
       "    </tr>\n",
       "    <tr>\n",
       "      <th>3</th>\n",
       "      <td>Royal Challengers Bangalore</td>\n",
       "      <td>84</td>\n",
       "    </tr>\n",
       "    <tr>\n",
       "      <th>4</th>\n",
       "      <td>Kings XI Punjab</td>\n",
       "      <td>82</td>\n",
       "    </tr>\n",
       "    <tr>\n",
       "      <th>5</th>\n",
       "      <td>Rajasthan Royals</td>\n",
       "      <td>75</td>\n",
       "    </tr>\n",
       "    <tr>\n",
       "      <th>6</th>\n",
       "      <td>Delhi Daredevils</td>\n",
       "      <td>67</td>\n",
       "    </tr>\n",
       "    <tr>\n",
       "      <th>7</th>\n",
       "      <td>Sunrisers Hyderabad</td>\n",
       "      <td>58</td>\n",
       "    </tr>\n",
       "    <tr>\n",
       "      <th>8</th>\n",
       "      <td>Deccan Chargers</td>\n",
       "      <td>29</td>\n",
       "    </tr>\n",
       "    <tr>\n",
       "      <th>9</th>\n",
       "      <td>Gujarat Lions</td>\n",
       "      <td>13</td>\n",
       "    </tr>\n",
       "    <tr>\n",
       "      <th>10</th>\n",
       "      <td>Pune Warriors</td>\n",
       "      <td>12</td>\n",
       "    </tr>\n",
       "    <tr>\n",
       "      <th>11</th>\n",
       "      <td>Rising Pune Supergiant</td>\n",
       "      <td>10</td>\n",
       "    </tr>\n",
       "    <tr>\n",
       "      <th>12</th>\n",
       "      <td>Delhi Capitals</td>\n",
       "      <td>10</td>\n",
       "    </tr>\n",
       "    <tr>\n",
       "      <th>13</th>\n",
       "      <td>Kochi Tuskers Kerala</td>\n",
       "      <td>6</td>\n",
       "    </tr>\n",
       "    <tr>\n",
       "      <th>14</th>\n",
       "      <td>Rising Pune Supergiants</td>\n",
       "      <td>5</td>\n",
       "    </tr>\n",
       "  </tbody>\n",
       "</table>\n",
       "</div>"
      ],
      "text/plain": [
       "                           team wins\n",
       "0                Mumbai Indians  109\n",
       "1           Chennai Super Kings  100\n",
       "2         Kolkata Knight Riders   92\n",
       "3   Royal Challengers Bangalore   84\n",
       "4               Kings XI Punjab   82\n",
       "5              Rajasthan Royals   75\n",
       "6              Delhi Daredevils   67\n",
       "7           Sunrisers Hyderabad   58\n",
       "8               Deccan Chargers   29\n",
       "9                 Gujarat Lions   13\n",
       "10                Pune Warriors   12\n",
       "11       Rising Pune Supergiant   10\n",
       "12               Delhi Capitals   10\n",
       "13         Kochi Tuskers Kerala    6\n",
       "14      Rising Pune Supergiants    5"
      ]
     },
     "execution_count": 47,
     "metadata": {
      "tags": []
     },
     "output_type": "execute_result"
    }
   ],
   "source": [
    "team_wins_ser = data['winner'].value_counts()\n",
    "team_wins_df = pd.DataFrame(columns=[\"team\",\"wins\"])\n",
    "for col in team_wins_ser.iteritems():\n",
    "    IPL1 = pd.DataFrame({\n",
    "        'team':[col[0]],\n",
    "        'wins':[col[1]]\n",
    "    })\n",
    "    team_wins_df = team_wins_df.append(IPL1,ignore_index=True)\n",
    "team_wins_df"
   ]
  },
  {
   "cell_type": "code",
   "execution_count": 48,
   "metadata": {
    "colab": {
     "base_uri": "https://localhost:8080/",
     "height": 525
    },
    "id": "hd8m6LsGfnLT",
    "outputId": "b0d4af52-a5c3-4326-ee65-fdfa01ecb9dd"
   },
   "outputs": [
    {
     "data": {
      "image/png": "[encoded data removed]",
      "text/plain": [
       "<Figure size 864x576 with 1 Axes>"
      ]
     },
     "metadata": {
      "needs_background": "light",
      "tags": []
     },
     "output_type": "display_data"
    }
   ],
   "source": [
    "plt.title(\"Total Victories of IPL Teams\")\n",
    "sns.barplot(x='wins', y='team', data=team_wins_df, palette='Paired');"
   ]
  },
  {
   "cell_type": "markdown",
   "metadata": {
    "id": "gbvWPH9HfsMI"
   },
   "source": [
    "**Observations:**\n",
    "Mumbai Indians is the most successful team(as they have won the maximum number of IPL matches -109) followed by Chennai Super Kings and Kolkata Knight Riders."
   ]
  },
  {
   "cell_type": "markdown",
   "metadata": {
    "id": "kvdfOA5ufwx9"
   },
   "source": [
    "The team that won the most number of toss"
   ]
  },
  {
   "cell_type": "code",
   "execution_count": 52,
   "metadata": {
    "colab": {
     "base_uri": "https://localhost:8080/",
     "height": 504
    },
    "id": "CD69B-T0fzhr",
    "outputId": "a8f16837-0a3f-4859-baf3-8c47ccde3acd"
   },
   "outputs": [
    {
     "data": {
      "text/html": [
       "<div>\n",
       "<style scoped>\n",
       "    .dataframe tbody tr th:only-of-type {\n",
       "        vertical-align: middle;\n",
       "    }\n",
       "\n",
       "    .dataframe tbody tr th {\n",
       "        vertical-align: top;\n",
       "    }\n",
       "\n",
       "    .dataframe thead th {\n",
       "        text-align: right;\n",
       "    }\n",
       "</style>\n",
       "<table border=\"1\" class=\"dataframe\">\n",
       "  <thead>\n",
       "    <tr style=\"text-align: right;\">\n",
       "      <th></th>\n",
       "      <th>team</th>\n",
       "      <th>wins</th>\n",
       "    </tr>\n",
       "  </thead>\n",
       "  <tbody>\n",
       "    <tr>\n",
       "      <th>0</th>\n",
       "      <td>Mumbai Indians</td>\n",
       "      <td>98</td>\n",
       "    </tr>\n",
       "    <tr>\n",
       "      <th>1</th>\n",
       "      <td>Kolkata Knight Riders</td>\n",
       "      <td>92</td>\n",
       "    </tr>\n",
       "    <tr>\n",
       "      <th>2</th>\n",
       "      <td>Chennai Super Kings</td>\n",
       "      <td>89</td>\n",
       "    </tr>\n",
       "    <tr>\n",
       "      <th>3</th>\n",
       "      <td>Royal Challengers Bangalore</td>\n",
       "      <td>81</td>\n",
       "    </tr>\n",
       "    <tr>\n",
       "      <th>4</th>\n",
       "      <td>Kings XI Punjab</td>\n",
       "      <td>81</td>\n",
       "    </tr>\n",
       "    <tr>\n",
       "      <th>5</th>\n",
       "      <td>Delhi Daredevils</td>\n",
       "      <td>80</td>\n",
       "    </tr>\n",
       "    <tr>\n",
       "      <th>6</th>\n",
       "      <td>Rajasthan Royals</td>\n",
       "      <td>80</td>\n",
       "    </tr>\n",
       "    <tr>\n",
       "      <th>7</th>\n",
       "      <td>Sunrisers Hyderabad</td>\n",
       "      <td>46</td>\n",
       "    </tr>\n",
       "    <tr>\n",
       "      <th>8</th>\n",
       "      <td>Deccan Chargers</td>\n",
       "      <td>43</td>\n",
       "    </tr>\n",
       "    <tr>\n",
       "      <th>9</th>\n",
       "      <td>Pune Warriors</td>\n",
       "      <td>20</td>\n",
       "    </tr>\n",
       "    <tr>\n",
       "      <th>10</th>\n",
       "      <td>Gujarat Lions</td>\n",
       "      <td>15</td>\n",
       "    </tr>\n",
       "    <tr>\n",
       "      <th>11</th>\n",
       "      <td>Delhi Capitals</td>\n",
       "      <td>10</td>\n",
       "    </tr>\n",
       "    <tr>\n",
       "      <th>12</th>\n",
       "      <td>Kochi Tuskers Kerala</td>\n",
       "      <td>8</td>\n",
       "    </tr>\n",
       "    <tr>\n",
       "      <th>13</th>\n",
       "      <td>Rising Pune Supergiants</td>\n",
       "      <td>7</td>\n",
       "    </tr>\n",
       "    <tr>\n",
       "      <th>14</th>\n",
       "      <td>Rising Pune Supergiant</td>\n",
       "      <td>6</td>\n",
       "    </tr>\n",
       "  </tbody>\n",
       "</table>\n",
       "</div>"
      ],
      "text/plain": [
       "                           team wins\n",
       "0                Mumbai Indians   98\n",
       "1         Kolkata Knight Riders   92\n",
       "2           Chennai Super Kings   89\n",
       "3   Royal Challengers Bangalore   81\n",
       "4               Kings XI Punjab   81\n",
       "5              Delhi Daredevils   80\n",
       "6              Rajasthan Royals   80\n",
       "7           Sunrisers Hyderabad   46\n",
       "8               Deccan Chargers   43\n",
       "9                 Pune Warriors   20\n",
       "10                Gujarat Lions   15\n",
       "11               Delhi Capitals   10\n",
       "12         Kochi Tuskers Kerala    8\n",
       "13      Rising Pune Supergiants    7\n",
       "14       Rising Pune Supergiant    6"
      ]
     },
     "execution_count": 52,
     "metadata": {
      "tags": []
     },
     "output_type": "execute_result"
    }
   ],
   "source": [
    "toss1 = data['toss_winner'].value_counts()\n",
    "\n",
    "toss_df = pd.DataFrame(columns=[\"team\", \"wins\"])\n",
    "\n",
    "for col in toss1.iteritems():\n",
    "    toss2 = pd.DataFrame({\n",
    "        'team':[col[0]],\n",
    "        'wins':[col[1]]\n",
    "    })\n",
    "    toss_df = toss_df.append(toss2, ignore_index=True) \n",
    "toss_df"
   ]
  },
  {
   "cell_type": "code",
   "execution_count": 53,
   "metadata": {
    "colab": {
     "base_uri": "https://localhost:8080/",
     "height": 525
    },
    "id": "H7_Wm3eSgPlZ",
    "outputId": "86449a61-9d1a-432e-8ae2-3bf171a1d6db"
   },
   "outputs": [
    {
     "data": {
      "image/png": "[encoded data removed]",
      "text/plain": [
       "<Figure size 864x576 with 1 Axes>"
      ]
     },
     "metadata": {
      "needs_background": "light",
      "tags": []
     },
     "output_type": "display_data"
    }
   ],
   "source": [
    "plt.title(\"Maximum number of toss won\")\n",
    "sns.barplot(x='wins', y='team', data=toss_df, palette='Paired');"
   ]
  },
  {
   "cell_type": "markdown",
   "metadata": {
    "id": "kj2FuEddgh3C"
   },
   "source": [
    "OBSERVATION: Mumbai Indians has won the most toss(till 2019) in IPL history.\n",
    "All the top teams in IPL are successful in winning the toss as well."
   ]
  },
  {
   "cell_type": "markdown",
   "metadata": {
    "id": "roBC1td4gvnm"
   },
   "source": [
    "Most Valuable Player"
   ]
  },
  {
   "cell_type": "code",
   "execution_count": 54,
   "metadata": {
    "colab": {
     "base_uri": "https://localhost:8080/",
     "height": 352
    },
    "id": "uehx0DCHgyz3",
    "outputId": "b272607f-191f-446a-9695-a166b82c7dfe"
   },
   "outputs": [
    {
     "data": {
      "text/html": [
       "<div>\n",
       "<style scoped>\n",
       "    .dataframe tbody tr th:only-of-type {\n",
       "        vertical-align: middle;\n",
       "    }\n",
       "\n",
       "    .dataframe tbody tr th {\n",
       "        vertical-align: top;\n",
       "    }\n",
       "\n",
       "    .dataframe thead th {\n",
       "        text-align: right;\n",
       "    }\n",
       "</style>\n",
       "<table border=\"1\" class=\"dataframe\">\n",
       "  <thead>\n",
       "    <tr style=\"text-align: right;\">\n",
       "      <th></th>\n",
       "      <th>player</th>\n",
       "      <th>wins</th>\n",
       "    </tr>\n",
       "  </thead>\n",
       "  <tbody>\n",
       "    <tr>\n",
       "      <th>0</th>\n",
       "      <td>CH Gayle</td>\n",
       "      <td>21</td>\n",
       "    </tr>\n",
       "    <tr>\n",
       "      <th>1</th>\n",
       "      <td>AB de Villiers</td>\n",
       "      <td>20</td>\n",
       "    </tr>\n",
       "    <tr>\n",
       "      <th>2</th>\n",
       "      <td>DA Warner</td>\n",
       "      <td>17</td>\n",
       "    </tr>\n",
       "    <tr>\n",
       "      <th>3</th>\n",
       "      <td>RG Sharma</td>\n",
       "      <td>17</td>\n",
       "    </tr>\n",
       "    <tr>\n",
       "      <th>4</th>\n",
       "      <td>MS Dhoni</td>\n",
       "      <td>17</td>\n",
       "    </tr>\n",
       "    <tr>\n",
       "      <th>5</th>\n",
       "      <td>YK Pathan</td>\n",
       "      <td>16</td>\n",
       "    </tr>\n",
       "    <tr>\n",
       "      <th>6</th>\n",
       "      <td>SR Watson</td>\n",
       "      <td>15</td>\n",
       "    </tr>\n",
       "    <tr>\n",
       "      <th>7</th>\n",
       "      <td>SK Raina</td>\n",
       "      <td>14</td>\n",
       "    </tr>\n",
       "    <tr>\n",
       "      <th>8</th>\n",
       "      <td>G Gambhir</td>\n",
       "      <td>13</td>\n",
       "    </tr>\n",
       "    <tr>\n",
       "      <th>9</th>\n",
       "      <td>V Kohli</td>\n",
       "      <td>12</td>\n",
       "    </tr>\n",
       "  </tbody>\n",
       "</table>\n",
       "</div>"
      ],
      "text/plain": [
       "           player wins\n",
       "0        CH Gayle   21\n",
       "1  AB de Villiers   20\n",
       "2       DA Warner   17\n",
       "3       RG Sharma   17\n",
       "4        MS Dhoni   17\n",
       "5       YK Pathan   16\n",
       "6       SR Watson   15\n",
       "7        SK Raina   14\n",
       "8       G Gambhir   13\n",
       "9         V Kohli   12"
      ]
     },
     "execution_count": 54,
     "metadata": {
      "tags": []
     },
     "output_type": "execute_result"
    }
   ],
   "source": [
    "player = data['player_of_match'].value_counts()\n",
    "\n",
    "player1 = pd.DataFrame(columns=[\"player\", \"wins\"])\n",
    "count = 0\n",
    "for col in player.iteritems():\n",
    "    if count>9:\n",
    "        break\n",
    "    else:\n",
    "        temp_df2 = pd.DataFrame({\n",
    "            'player':[col[0]],\n",
    "            'wins':[col[1]]\n",
    "        })\n",
    "        player1 = player1.append(temp_df2, ignore_index=True)\n",
    "        count += 1    \n",
    "player1"
   ]
  },
  {
   "cell_type": "code",
   "execution_count": 55,
   "metadata": {
    "colab": {
     "base_uri": "https://localhost:8080/",
     "height": 525
    },
    "id": "ecGopncShcub",
    "outputId": "ed0d32c7-110e-468d-829f-1b99dbb602c0"
   },
   "outputs": [
    {
     "data": {
      "image/png": "[encoded data removed]",
      "text/plain": [
       "<Figure size 864x576 with 1 Axes>"
      ]
     },
     "metadata": {
      "needs_background": "light",
      "tags": []
     },
     "output_type": "display_data"
    }
   ],
   "source": [
    "plt.title(\"Top Ten IPL Players\")\n",
    "sns.barplot(x='wins', y='player', data=player1, palette='Paired');"
   ]
  },
  {
   "cell_type": "markdown",
   "metadata": {
    "id": "KLoLddl9hjVK"
   },
   "source": [
    "**Observations:**\n",
    "Cris Gayle is the player who won the most player of the match awards and hence is the most valuable player.\n",
    "Six Indian players have figured in the top ten IPL players list."
   ]
  },
  {
   "cell_type": "markdown",
   "metadata": {
    "id": "vRF3KPvhiDLX"
   },
   "source": [
    "Which umpire has officiated the most number of IPL matches on-field?"
   ]
  },
  {
   "cell_type": "code",
   "execution_count": 56,
   "metadata": {
    "colab": {
     "base_uri": "https://localhost:8080/",
     "height": 411
    },
    "id": "3WYMwDyFiEZU",
    "outputId": "64621244-f70d-41ce-e206-84b1845a35ef"
   },
   "outputs": [
    {
     "data": {
      "text/html": [
       "<div>\n",
       "<style scoped>\n",
       "    .dataframe tbody tr th:only-of-type {\n",
       "        vertical-align: middle;\n",
       "    }\n",
       "\n",
       "    .dataframe tbody tr th {\n",
       "        vertical-align: top;\n",
       "    }\n",
       "\n",
       "    .dataframe thead th {\n",
       "        text-align: right;\n",
       "    }\n",
       "</style>\n",
       "<table border=\"1\" class=\"dataframe\">\n",
       "  <thead>\n",
       "    <tr style=\"text-align: right;\">\n",
       "      <th></th>\n",
       "      <th>umpire1</th>\n",
       "      <th>umpire2</th>\n",
       "    </tr>\n",
       "  </thead>\n",
       "  <tbody>\n",
       "    <tr>\n",
       "      <th>HDPK Dharmasena</th>\n",
       "      <td>73.0</td>\n",
       "      <td>14.0</td>\n",
       "    </tr>\n",
       "    <tr>\n",
       "      <th>Asad Rauf</th>\n",
       "      <td>51.0</td>\n",
       "      <td>NaN</td>\n",
       "    </tr>\n",
       "    <tr>\n",
       "      <th>S Ravi</th>\n",
       "      <td>49.0</td>\n",
       "      <td>57.0</td>\n",
       "    </tr>\n",
       "    <tr>\n",
       "      <th>AK Chaudhary</th>\n",
       "      <td>43.0</td>\n",
       "      <td>15.0</td>\n",
       "    </tr>\n",
       "    <tr>\n",
       "      <th>Aleem Dar</th>\n",
       "      <td>38.0</td>\n",
       "      <td>NaN</td>\n",
       "    </tr>\n",
       "    <tr>\n",
       "      <th>...</th>\n",
       "      <td>...</td>\n",
       "      <td>...</td>\n",
       "    </tr>\n",
       "    <tr>\n",
       "      <th>K Srinivasan</th>\n",
       "      <td>NaN</td>\n",
       "      <td>3.0</td>\n",
       "    </tr>\n",
       "    <tr>\n",
       "      <th>KN Anantapadmanabhan</th>\n",
       "      <td>NaN</td>\n",
       "      <td>3.0</td>\n",
       "    </tr>\n",
       "    <tr>\n",
       "      <th>SD Ranade</th>\n",
       "      <td>NaN</td>\n",
       "      <td>2.0</td>\n",
       "    </tr>\n",
       "    <tr>\n",
       "      <th>Subroto Das</th>\n",
       "      <td>NaN</td>\n",
       "      <td>1.0</td>\n",
       "    </tr>\n",
       "    <tr>\n",
       "      <th>Nand Kishore</th>\n",
       "      <td>NaN</td>\n",
       "      <td>1.0</td>\n",
       "    </tr>\n",
       "  </tbody>\n",
       "</table>\n",
       "<p>75 rows × 2 columns</p>\n",
       "</div>"
      ],
      "text/plain": [
       "                      umpire1  umpire2\n",
       "HDPK Dharmasena          73.0     14.0\n",
       "Asad Rauf                51.0      NaN\n",
       "S Ravi                   49.0     57.0\n",
       "AK Chaudhary             43.0     15.0\n",
       "Aleem Dar                38.0      NaN\n",
       "...                       ...      ...\n",
       "K Srinivasan              NaN      3.0\n",
       "KN Anantapadmanabhan      NaN      3.0\n",
       "SD Ranade                 NaN      2.0\n",
       "Subroto Das               NaN      1.0\n",
       "Nand Kishore              NaN      1.0\n",
       "\n",
       "[75 rows x 2 columns]"
      ]
     },
     "execution_count": 56,
     "metadata": {
      "tags": []
     },
     "output_type": "execute_result"
    }
   ],
   "source": [
    "umpire1_ser = data['umpire1'].value_counts()\n",
    "umpire2_ser = data['umpire2'].value_counts()\n",
    "umpires_df = pd.concat([umpire1_ser, umpire2_ser], axis=1)\n",
    "umpires_df"
   ]
  },
  {
   "cell_type": "code",
   "execution_count": 58,
   "metadata": {
    "colab": {
     "base_uri": "https://localhost:8080/",
     "height": 200
    },
    "id": "fXVlXMd3iUBA",
    "outputId": "3dc3af88-3457-49de-f8cf-d95267a18b4a"
   },
   "outputs": [
    {
     "data": {
      "text/html": [
       "<div>\n",
       "<style scoped>\n",
       "    .dataframe tbody tr th:only-of-type {\n",
       "        vertical-align: middle;\n",
       "    }\n",
       "\n",
       "    .dataframe tbody tr th {\n",
       "        vertical-align: top;\n",
       "    }\n",
       "\n",
       "    .dataframe thead th {\n",
       "        text-align: right;\n",
       "    }\n",
       "</style>\n",
       "<table border=\"1\" class=\"dataframe\">\n",
       "  <thead>\n",
       "    <tr style=\"text-align: right;\">\n",
       "      <th></th>\n",
       "      <th>umpire</th>\n",
       "      <th>matches</th>\n",
       "    </tr>\n",
       "  </thead>\n",
       "  <tbody>\n",
       "    <tr>\n",
       "      <th>2</th>\n",
       "      <td>S Ravi</td>\n",
       "      <td>106.0</td>\n",
       "    </tr>\n",
       "    <tr>\n",
       "      <th>0</th>\n",
       "      <td>HDPK Dharmasena</td>\n",
       "      <td>87.0</td>\n",
       "    </tr>\n",
       "    <tr>\n",
       "      <th>11</th>\n",
       "      <td>C Shamshuddin</td>\n",
       "      <td>73.0</td>\n",
       "    </tr>\n",
       "    <tr>\n",
       "      <th>3</th>\n",
       "      <td>AK Chaudhary</td>\n",
       "      <td>58.0</td>\n",
       "    </tr>\n",
       "    <tr>\n",
       "      <th>56</th>\n",
       "      <td>SJA Taufel</td>\n",
       "      <td>55.0</td>\n",
       "    </tr>\n",
       "  </tbody>\n",
       "</table>\n",
       "</div>"
      ],
      "text/plain": [
       "             umpire  matches\n",
       "2            S Ravi    106.0\n",
       "0   HDPK Dharmasena     87.0\n",
       "11    C Shamshuddin     73.0\n",
       "3      AK Chaudhary     58.0\n",
       "56       SJA Taufel     55.0"
      ]
     },
     "execution_count": 58,
     "metadata": {
      "tags": []
     },
     "output_type": "execute_result"
    }
   ],
   "source": [
    "umpire_ser = umpires_df.sum(axis=1)\n",
    "\n",
    "umpire_df = pd.DataFrame(columns=[\"umpire\", \"matches\"])\n",
    "\n",
    "for items in umpire_ser.iteritems():\n",
    "    temp_df4 = pd.DataFrame({\n",
    "        'umpire':[items[0]],\n",
    "        'matches':[items[1]]\n",
    "    })\n",
    "    umpire_df= umpire_df.append(temp_df4, ignore_index=True) \n",
    "umpire_df.sort_values('matches', ascending=False).head()"
   ]
  },
  {
   "cell_type": "markdown",
   "metadata": {
    "id": "oRk-jMVejSta"
   },
   "source": [
    "Which city hosted the maximum number of IPL matches"
   ]
  },
  {
   "cell_type": "code",
   "execution_count": 59,
   "metadata": {
    "colab": {
     "base_uri": "https://localhost:8080/"
    },
    "id": "JspAi_JljWXV",
    "outputId": "cde612a4-cb27-41a6-c640-2633edbbeea3"
   },
   "outputs": [
    {
     "data": {
      "text/plain": [
       "Mumbai            101\n",
       "Kolkata            77\n",
       "Delhi              74\n",
       "Bangalore          66\n",
       "Hyderabad          64\n",
       "Chennai            57\n",
       "Jaipur             47\n",
       "Chandigarh         46\n",
       "Pune               38\n",
       "Durban             15\n",
       "Bengaluru          14\n",
       "Visakhapatnam      13\n",
       "Centurion          12\n",
       "Ahmedabad          12\n",
       "Mohali             10\n",
       "Rajkot             10\n",
       "Dharamsala          9\n",
       "Indore              9\n",
       "Johannesburg        8\n",
       "Abu Dhabi           7\n",
       "Port Elizabeth      7\n",
       "Cape Town           7\n",
       "Cuttack             7\n",
       "Ranchi              7\n",
       "Sharjah             6\n",
       "Raipur              6\n",
       "Kochi               5\n",
       "Kanpur              4\n",
       "Nagpur              3\n",
       "East London         3\n",
       "Kimberley           3\n",
       "Bloemfontein        2\n",
       "Name: city, dtype: int64"
      ]
     },
     "execution_count": 59,
     "metadata": {
      "tags": []
     },
     "output_type": "execute_result"
    }
   ],
   "source": [
    "data['city'].value_counts()"
   ]
  },
  {
   "cell_type": "code",
   "execution_count": 60,
   "metadata": {
    "id": "hTIhIZ-Ujoi3"
   },
   "outputs": [],
   "source": [
    "city_ser = data['city'].value_counts()\n",
    "\n",
    "city_df = pd.DataFrame(columns=['city', 'matches'])\n",
    "for items in city_ser.iteritems():\n",
    "    temp_df6 = pd.DataFrame({\n",
    "        'city':[items[0]],\n",
    "        'matches':[items[1]]\n",
    "    })\n",
    "    city_df = city_df.append(temp_df6, ignore_index=True)"
   ]
  },
  {
   "cell_type": "code",
   "execution_count": 61,
   "metadata": {
    "colab": {
     "base_uri": "https://localhost:8080/",
     "height": 525
    },
    "id": "rNIpLRATjuni",
    "outputId": "1c879b5c-cddc-4f81-f7ba-b504d71d3f54"
   },
   "outputs": [
    {
     "data": {
      "image/png": "[encoded data removed]",
      "text/plain": [
       "<Figure size 864x576 with 1 Axes>"
      ]
     },
     "metadata": {
      "needs_background": "light",
      "tags": []
     },
     "output_type": "display_data"
    }
   ],
   "source": [
    "plt.title(\"Cities that hosted IPL matches\")\n",
    "sns.barplot(x='matches', y='city', data=city_df);"
   ]
  },
  {
   "cell_type": "markdown",
   "metadata": {
    "id": "yO_W-nUpjyGX"
   },
   "source": [
    "OBSERVATION: Mumbai hosted the maximum number of IPL Matches followed by Kolkata and Delhi"
   ]
  },
  {
   "cell_type": "markdown",
   "metadata": {
    "id": "P05-ro8dj65x"
   },
   "source": [
    "Does winning the toss has any advantage?"
   ]
  },
  {
   "cell_type": "code",
   "execution_count": 63,
   "metadata": {
    "colab": {
     "base_uri": "https://localhost:8080/"
    },
    "id": "87TjlCinj9qP",
    "outputId": "2c9f282e-a656-46cb-9755-0dcc6ca05293"
   },
   "outputs": [
    {
     "name": "stdout",
     "output_type": "stream",
     "text": [
      "The number of times the team winning toss have won: 393\n",
      "The probability of winning if won the toss: 0.52\n"
     ]
    }
   ],
   "source": [
    "win_count = 0\n",
    "for index, value in data.iterrows():\n",
    "    if(value['toss_winner']==value['winner']):\n",
    "#         print(value['winner'])\n",
    "        win_count += 1\n",
    "\n",
    "print(f'The number of times the team winning toss have won: {win_count}')\n",
    "prob = win_count/len(data)\n",
    "print('The probability of winning if won the toss: {:.2f}' .format(prob))    "
   ]
  },
  {
   "cell_type": "markdown",
   "metadata": {
    "id": "ChEI3icAm28E"
   },
   "source": [
    " What are the major victories in IPL? Is it better to defend or chase in IPL?"
   ]
  },
  {
   "cell_type": "code",
   "execution_count": 65,
   "metadata": {
    "colab": {
     "base_uri": "https://localhost:8080/"
    },
    "id": "V_DcxC5QmaJo",
    "outputId": "d8e78074-c82b-4cb8-e497-c0337359421b"
   },
   "outputs": [
    {
     "data": {
      "text/plain": [
       "146      1\n",
       "98       1\n",
       "77       1\n",
       "93       1\n",
       "102      1\n",
       "      ... \n",
       "1       10\n",
       "10      11\n",
       "4       11\n",
       "14      13\n",
       "0      419\n",
       "Name: win_by_runs, Length: 89, dtype: int64"
      ]
     },
     "execution_count": 65,
     "metadata": {
      "tags": []
     },
     "output_type": "execute_result"
    }
   ],
   "source": [
    "defend_vict_ser = data['win_by_runs'].value_counts()\n",
    "defend_vict_ser.sort_values(ascending=True)"
   ]
  },
  {
   "cell_type": "markdown",
   "metadata": {
    "id": "TwsT4z76mnIH"
   },
   "source": [
    "Of the 756 IPL matches played from 2008 to 2019, 419 matches were won chasing the target. Hence, more victories were registered by teams chasing a total(batting second) than defending the total.\n",
    "When defending a total, the biggest victory was by 146 runs. Let’s find out that particular match."
   ]
  },
  {
   "cell_type": "code",
   "execution_count": 66,
   "metadata": {
    "colab": {
     "base_uri": "https://localhost:8080/"
    },
    "id": "RJbZCP7vmoe8",
    "outputId": "8c49c750-a652-42e0-c83f-8ac4b6617c70"
   },
   "outputs": [
    {
     "name": "stdout",
     "output_type": "stream",
     "text": [
      "id                               44\n",
      "season                         2017\n",
      "city                          Delhi\n",
      "date                     2017-05-06\n",
      "team1                Mumbai Indians\n",
      "team2              Delhi Daredevils\n",
      "toss_winner        Delhi Daredevils\n",
      "toss_decision                 field\n",
      "result                       normal\n",
      "dl_applied                        0\n",
      "winner               Mumbai Indians\n",
      "win_by_runs                     146\n",
      "win_by_wickets                    0\n",
      "player_of_match         LMP Simmons\n",
      "venue              Feroz Shah Kotla\n",
      "umpire1                 Nitin Menon\n",
      "umpire2                   CK Nandan\n",
      "Name: 43, dtype: object\n"
     ]
    }
   ],
   "source": [
    "score = 146\n",
    "for index, row in data.iterrows():\n",
    "    if(row['win_by_runs'] == score):\n",
    "        print(row)  "
   ]
  },
  {
   "cell_type": "markdown",
   "metadata": {
    "id": "bWZ8ltYpm8ao"
   },
   "source": [
    "The greatest victory in IPL on defending a total is for Mumbai Indians when they defeated Delhi Daredevils by 146 runs on 06 May 2017 at Feroz Shah Kotla stadium, Delhi"
   ]
  },
  {
   "cell_type": "code",
   "execution_count": 68,
   "metadata": {
    "colab": {
     "base_uri": "https://localhost:8080/"
    },
    "id": "hr0jfisDnBGW",
    "outputId": "a35f6ea8-53c6-4f12-faaf-eb2d620d0b5f"
   },
   "outputs": [
    {
     "data": {
      "text/plain": [
       "0     350\n",
       "6      85\n",
       "7      80\n",
       "5      71\n",
       "8      54\n",
       "4      41\n",
       "9      37\n",
       "3      18\n",
       "10     11\n",
       "2       6\n",
       "1       3\n",
       "Name: win_by_wickets, dtype: int64"
      ]
     },
     "execution_count": 68,
     "metadata": {
      "tags": []
     },
     "output_type": "execute_result"
    }
   ],
   "source": [
    "chasing_vict_ser = data['win_by_wickets'].value_counts()\n",
    "chasing_vict_ser"
   ]
  },
  {
   "cell_type": "markdown",
   "metadata": {
    "id": "z9vbWZ-gnX3_"
   },
   "source": [
    "When chasing a target, the biggest victory was by 10 wickets"
   ]
  },
  {
   "cell_type": "code",
   "execution_count": 69,
   "metadata": {
    "colab": {
     "base_uri": "https://localhost:8080/"
    },
    "id": "IjqTTvgJnXJB",
    "outputId": "e73ae354-a71b-4691-8935-75732a02d7b1"
   },
   "outputs": [
    {
     "name": "stdout",
     "output_type": "stream",
     "text": [
      "id                                                      3\n",
      "season                                               2017\n",
      "city                                               Rajkot\n",
      "date                                           2017-04-07\n",
      "team1                                       Gujarat Lions\n",
      "team2                               Kolkata Knight Riders\n",
      "toss_winner                         Kolkata Knight Riders\n",
      "toss_decision                                       field\n",
      "result                                             normal\n",
      "dl_applied                                              0\n",
      "winner                              Kolkata Knight Riders\n",
      "win_by_runs                                             0\n",
      "win_by_wickets                                         10\n",
      "player_of_match                                   CA Lynn\n",
      "venue              Saurashtra Cricket Association Stadium\n",
      "umpire1                                       Nitin Menon\n",
      "umpire2                                         CK Nandan\n",
      "Name: 2, dtype: object\n",
      "id                                                                35\n",
      "season                                                          2017\n",
      "city                                                      Chandigarh\n",
      "date                                                      2017-04-30\n",
      "team1                                               Delhi Daredevils\n",
      "team2                                                Kings XI Punjab\n",
      "toss_winner                                          Kings XI Punjab\n",
      "toss_decision                                                  field\n",
      "result                                                        normal\n",
      "dl_applied                                                         0\n",
      "winner                                               Kings XI Punjab\n",
      "win_by_runs                                                        0\n",
      "win_by_wickets                                                    10\n",
      "player_of_match                                       Sandeep Sharma\n",
      "venue              Punjab Cricket Association IS Bindra Stadium, ...\n",
      "umpire1                                                     YC Barde\n",
      "umpire2                                                    CK Nandan\n",
      "Name: 34, dtype: object\n",
      "id                                         72\n",
      "season                                   2008\n",
      "city                                   Mumbai\n",
      "date                               2008-04-27\n",
      "team1                          Mumbai Indians\n",
      "team2                         Deccan Chargers\n",
      "toss_winner                   Deccan Chargers\n",
      "toss_decision                           field\n",
      "result                                 normal\n",
      "dl_applied                                  0\n",
      "winner                        Deccan Chargers\n",
      "win_by_runs                                 0\n",
      "win_by_wickets                             10\n",
      "player_of_match                  AC Gilchrist\n",
      "venue              Dr DY Patil Sports Academy\n",
      "umpire1                             Asad Rauf\n",
      "umpire2                            SL Shastri\n",
      "Name: 71, dtype: object\n",
      "id                              120\n",
      "season                         2009\n",
      "city                      Cape Town\n",
      "date                     2009-04-19\n",
      "team1               Kings XI Punjab\n",
      "team2              Delhi Daredevils\n",
      "toss_winner        Delhi Daredevils\n",
      "toss_decision                 field\n",
      "result                       normal\n",
      "dl_applied                        1\n",
      "winner             Delhi Daredevils\n",
      "win_by_runs                       0\n",
      "win_by_wickets                   10\n",
      "player_of_match          DL Vettori\n",
      "venue                      Newlands\n",
      "umpire1                   MR Benson\n",
      "umpire2                   SD Ranade\n",
      "Name: 119, dtype: object\n",
      "id                                         184\n",
      "season                                    2010\n",
      "city                                 Bangalore\n",
      "date                                2010-03-18\n",
      "team1                         Rajasthan Royals\n",
      "team2              Royal Challengers Bangalore\n",
      "toss_winner        Royal Challengers Bangalore\n",
      "toss_decision                            field\n",
      "result                                  normal\n",
      "dl_applied                                   0\n",
      "winner             Royal Challengers Bangalore\n",
      "win_by_runs                                  0\n",
      "win_by_wickets                              10\n",
      "player_of_match                      JH Kallis\n",
      "venue                    M Chinnaswamy Stadium\n",
      "umpire1                            K Hariharan\n",
      "umpire2                              DJ Harper\n",
      "Name: 183, dtype: object\n",
      "id                              299\n",
      "season                         2011\n",
      "city                         Mumbai\n",
      "date                     2011-05-20\n",
      "team1                Mumbai Indians\n",
      "team2              Rajasthan Royals\n",
      "toss_winner          Mumbai Indians\n",
      "toss_decision                   bat\n",
      "result                       normal\n",
      "dl_applied                        0\n",
      "winner             Rajasthan Royals\n",
      "win_by_runs                       0\n",
      "win_by_wickets                   10\n",
      "player_of_match           SR Watson\n",
      "venue              Wankhede Stadium\n",
      "umpire1                 RE Koertzen\n",
      "umpire2                  PR Reiffel\n",
      "Name: 298, dtype: object\n",
      "id                                    377\n",
      "season                               2012\n",
      "city                               Jaipur\n",
      "date                           2012-05-20\n",
      "team1                    Rajasthan Royals\n",
      "team2                      Mumbai Indians\n",
      "toss_winner              Rajasthan Royals\n",
      "toss_decision                         bat\n",
      "result                             normal\n",
      "dl_applied                              0\n",
      "winner                     Mumbai Indians\n",
      "win_by_runs                             0\n",
      "win_by_wickets                         10\n",
      "player_of_match                  DR Smith\n",
      "venue              Sawai Mansingh Stadium\n",
      "umpire1                   HDPK Dharmasena\n",
      "umpire2                     C Shamshuddin\n",
      "Name: 376, dtype: object\n",
      "id                                                        391\n",
      "season                                                   2013\n",
      "city                                               Chandigarh\n",
      "date                                               2013-04-10\n",
      "team1                                         Kings XI Punjab\n",
      "team2                                     Chennai Super Kings\n",
      "toss_winner                               Chennai Super Kings\n",
      "toss_decision                                           field\n",
      "result                                                 normal\n",
      "dl_applied                                                  0\n",
      "winner                                    Chennai Super Kings\n",
      "win_by_runs                                                 0\n",
      "win_by_wickets                                             10\n",
      "player_of_match                                    MEK Hussey\n",
      "venue              Punjab Cricket Association Stadium, Mohali\n",
      "umpire1                                             Aleem Dar\n",
      "umpire2                                         C Shamshuddin\n",
      "Name: 390, dtype: object\n",
      "id                                         543\n",
      "season                                    2015\n",
      "city                                     Delhi\n",
      "date                                2015-04-26\n",
      "team1                         Delhi Daredevils\n",
      "team2              Royal Challengers Bangalore\n",
      "toss_winner        Royal Challengers Bangalore\n",
      "toss_decision                            field\n",
      "result                                  normal\n",
      "dl_applied                                   0\n",
      "winner             Royal Challengers Bangalore\n",
      "win_by_runs                                  0\n",
      "win_by_wickets                              10\n",
      "player_of_match                       VR Aaron\n",
      "venue                         Feroz Shah Kotla\n",
      "umpire1                              M Erasmus\n",
      "umpire2                                 S Ravi\n",
      "Name: 542, dtype: object\n",
      "id                                                    591\n",
      "season                                               2016\n",
      "city                                               Rajkot\n",
      "date                                           2016-04-21\n",
      "team1                                       Gujarat Lions\n",
      "team2                                 Sunrisers Hyderabad\n",
      "toss_winner                           Sunrisers Hyderabad\n",
      "toss_decision                                       field\n",
      "result                                             normal\n",
      "dl_applied                                              0\n",
      "winner                                Sunrisers Hyderabad\n",
      "win_by_runs                                             0\n",
      "win_by_wickets                                         10\n",
      "player_of_match                                   B Kumar\n",
      "venue              Saurashtra Cricket Association Stadium\n",
      "umpire1                                        K Bharatan\n",
      "umpire2                                   HDPK Dharmasena\n",
      "Name: 590, dtype: object\n",
      "id                                        7941\n",
      "season                                    2018\n",
      "city                                    Indore\n",
      "date                                  14/05/18\n",
      "team1                          Kings XI Punjab\n",
      "team2              Royal Challengers Bangalore\n",
      "toss_winner        Royal Challengers Bangalore\n",
      "toss_decision                            field\n",
      "result                                  normal\n",
      "dl_applied                                   0\n",
      "winner             Royal Challengers Bangalore\n",
      "win_by_runs                                  0\n",
      "win_by_wickets                              10\n",
      "player_of_match                       UT Yadav\n",
      "venue                   Holkar Cricket Stadium\n",
      "umpire1                         Bruce Oxenford\n",
      "umpire2                  Virender Kumar Sharma\n",
      "Name: 683, dtype: object\n"
     ]
    }
   ],
   "source": [
    "for index, row in data.iterrows():\n",
    "    if(row['win_by_wickets'] == 10):\n",
    "        print(row)"
   ]
  },
  {
   "cell_type": "markdown",
   "metadata": {
    "id": "TthEWCHdn2QV"
   },
   "source": [
    "OBSERVATIONS\n",
    "1. Mumbai Indians has won the most number of toss.\n",
    "2. The Mumbai city has hosted the most number of IPL matches.\n",
    "3. Chris Gayle has won the maximum number of player of the match title.\n",
    "4. When chasing a target, the biggest victory was by 10 wickets(without losing any wickets) and there were 11 such instances.\n",
    "5. There were more matches won by chasing the total(419 matches) than defending(350 matches).\n",
    "6. When defending a total, the biggest victory was by 146 runs(Mumbai Indians defeated Delhi Daredevils by 146 runs on 06 May 2017 at Feroz Shah Kotla stadium, Delhi).\n",
    "7. Winning toss gives a slight edge(52% probability of winning) against the opponents.\n",
    "8. Five Indian players have figured in the top ten IPL players list.\n",
    "9. S. Ravi(Sundaram Ravi) has officiated the most number of IPL matches on-field.\n",
    "10. Eden Gardens has hosted the maximum number of IPL matches.\n",
    "11. Till 2019, 40 venues have hosted 756 IPL matches."
   ]
  }
 ],
 "metadata": {
  "colab": {
   "name": "Task_5.ipynb",
   "provenance": []
  },
  "kernelspec": {
   "display_name": "Python 3",
   "language": "python",
   "name": "python3"
  },
  "language_info": {
   "codemirror_mode": {
    "name": "ipython",
    "version": 3
   },
   "file_extension": ".py",
   "mimetype": "text/x-python",
   "name": "python",
   "nbconvert_exporter": "python",
   "pygments_lexer": "ipython3",
   "version": "3.6.9"
  }
 },
 "nbformat": 4,
 "nbformat_minor": 1
}
